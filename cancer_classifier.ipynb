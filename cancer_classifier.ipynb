{
 "cells": [
  {
   "cell_type": "code",
   "execution_count": null,
   "id": "78d0f9a9",
   "metadata": {},
   "outputs": [],
   "source": [
    "import pandas as pd \n",
    "import seaborn as sns \n",
    "import numpy as np \n",
    "import matplotlib.pyplot as plt "
   ]
  },
  {
   "cell_type": "code",
   "execution_count": 65,
   "id": "ff46ee1e",
   "metadata": {},
   "outputs": [],
   "source": [
    "data = pd.read_csv(\"./raw_data/GSE45827_series_matrix.txt\", sep = \"\\t\", comment = \"!\")"
   ]
  },
  {
   "cell_type": "code",
   "execution_count": 66,
   "id": "572c910e",
   "metadata": {},
   "outputs": [],
   "source": [
    "data = data.dropna(axis = 0) "
   ]
  },
  {
   "cell_type": "code",
   "execution_count": 67,
   "id": "10445369",
   "metadata": {},
   "outputs": [
    {
     "data": {
      "text/html": [
       "<div>\n",
       "<style scoped>\n",
       "    .dataframe tbody tr th:only-of-type {\n",
       "        vertical-align: middle;\n",
       "    }\n",
       "\n",
       "    .dataframe tbody tr th {\n",
       "        vertical-align: top;\n",
       "    }\n",
       "\n",
       "    .dataframe thead th {\n",
       "        text-align: right;\n",
       "    }\n",
       "</style>\n",
       "<table border=\"1\" class=\"dataframe\">\n",
       "  <thead>\n",
       "    <tr style=\"text-align: right;\">\n",
       "      <th></th>\n",
       "      <th>ID</th>\n",
       "      <th>Gene Symbol</th>\n",
       "    </tr>\n",
       "  </thead>\n",
       "  <tbody>\n",
       "    <tr>\n",
       "      <th>0</th>\n",
       "      <td>1007_s_at</td>\n",
       "      <td>DDR1 /// MIR4640</td>\n",
       "    </tr>\n",
       "    <tr>\n",
       "      <th>1</th>\n",
       "      <td>1053_at</td>\n",
       "      <td>RFC2</td>\n",
       "    </tr>\n",
       "    <tr>\n",
       "      <th>2</th>\n",
       "      <td>117_at</td>\n",
       "      <td>HSPA6</td>\n",
       "    </tr>\n",
       "    <tr>\n",
       "      <th>3</th>\n",
       "      <td>121_at</td>\n",
       "      <td>PAX8</td>\n",
       "    </tr>\n",
       "    <tr>\n",
       "      <th>4</th>\n",
       "      <td>1255_g_at</td>\n",
       "      <td>GUCA1A</td>\n",
       "    </tr>\n",
       "    <tr>\n",
       "      <th>...</th>\n",
       "      <td>...</td>\n",
       "      <td>...</td>\n",
       "    </tr>\n",
       "    <tr>\n",
       "      <th>54670</th>\n",
       "      <td>AFFX-ThrX-5_at</td>\n",
       "      <td>NaN</td>\n",
       "    </tr>\n",
       "    <tr>\n",
       "      <th>54671</th>\n",
       "      <td>AFFX-ThrX-M_at</td>\n",
       "      <td>NaN</td>\n",
       "    </tr>\n",
       "    <tr>\n",
       "      <th>54672</th>\n",
       "      <td>AFFX-TrpnX-3_at</td>\n",
       "      <td>NaN</td>\n",
       "    </tr>\n",
       "    <tr>\n",
       "      <th>54673</th>\n",
       "      <td>AFFX-TrpnX-5_at</td>\n",
       "      <td>NaN</td>\n",
       "    </tr>\n",
       "    <tr>\n",
       "      <th>54674</th>\n",
       "      <td>AFFX-TrpnX-M_at</td>\n",
       "      <td>NaN</td>\n",
       "    </tr>\n",
       "  </tbody>\n",
       "</table>\n",
       "<p>54675 rows × 2 columns</p>\n",
       "</div>"
      ],
      "text/plain": [
       "                    ID       Gene Symbol\n",
       "0            1007_s_at  DDR1 /// MIR4640\n",
       "1              1053_at              RFC2\n",
       "2               117_at             HSPA6\n",
       "3               121_at              PAX8\n",
       "4            1255_g_at            GUCA1A\n",
       "...                ...               ...\n",
       "54670   AFFX-ThrX-5_at               NaN\n",
       "54671   AFFX-ThrX-M_at               NaN\n",
       "54672  AFFX-TrpnX-3_at               NaN\n",
       "54673  AFFX-TrpnX-5_at               NaN\n",
       "54674  AFFX-TrpnX-M_at               NaN\n",
       "\n",
       "[54675 rows x 2 columns]"
      ]
     },
     "execution_count": 67,
     "metadata": {},
     "output_type": "execute_result"
    }
   ],
   "source": [
    "soft_map = pd.read_csv(\"./raw_data/GPL570-55999.txt\", sep = \"\\t\", comment = \"#\", dtype = object)\n",
    "soft_map = soft_map.loc[:, ['ID', 'Gene Symbol']]\n",
    "soft_map"
   ]
  },
  {
   "cell_type": "code",
   "execution_count": 68,
   "id": "569e57b7",
   "metadata": {},
   "outputs": [
    {
     "data": {
      "text/html": [
       "<div>\n",
       "<style scoped>\n",
       "    .dataframe tbody tr th:only-of-type {\n",
       "        vertical-align: middle;\n",
       "    }\n",
       "\n",
       "    .dataframe tbody tr th {\n",
       "        vertical-align: top;\n",
       "    }\n",
       "\n",
       "    .dataframe thead th {\n",
       "        text-align: right;\n",
       "    }\n",
       "</style>\n",
       "<table border=\"1\" class=\"dataframe\">\n",
       "  <thead>\n",
       "    <tr style=\"text-align: right;\">\n",
       "      <th></th>\n",
       "      <th>Gene Symbol</th>\n",
       "    </tr>\n",
       "    <tr>\n",
       "      <th>ID</th>\n",
       "      <th></th>\n",
       "    </tr>\n",
       "  </thead>\n",
       "  <tbody>\n",
       "    <tr>\n",
       "      <th>1007_s_at</th>\n",
       "      <td>DDR1 /// MIR4640</td>\n",
       "    </tr>\n",
       "    <tr>\n",
       "      <th>1053_at</th>\n",
       "      <td>RFC2</td>\n",
       "    </tr>\n",
       "    <tr>\n",
       "      <th>117_at</th>\n",
       "      <td>HSPA6</td>\n",
       "    </tr>\n",
       "    <tr>\n",
       "      <th>1294_at</th>\n",
       "      <td>MIR5193 /// UBA7</td>\n",
       "    </tr>\n",
       "    <tr>\n",
       "      <th>1316_at</th>\n",
       "      <td>THRA</td>\n",
       "    </tr>\n",
       "    <tr>\n",
       "      <th>...</th>\n",
       "      <td>...</td>\n",
       "    </tr>\n",
       "    <tr>\n",
       "      <th>91684_g_at</th>\n",
       "      <td>EXOSC4</td>\n",
       "    </tr>\n",
       "    <tr>\n",
       "      <th>91703_at</th>\n",
       "      <td>EHBP1L1</td>\n",
       "    </tr>\n",
       "    <tr>\n",
       "      <th>91816_f_at</th>\n",
       "      <td>MEX3D</td>\n",
       "    </tr>\n",
       "    <tr>\n",
       "      <th>91826_at</th>\n",
       "      <td>EPS8L1</td>\n",
       "    </tr>\n",
       "    <tr>\n",
       "      <th>91952_at</th>\n",
       "      <td>DCAF15</td>\n",
       "    </tr>\n",
       "  </tbody>\n",
       "</table>\n",
       "<p>29873 rows × 1 columns</p>\n",
       "</div>"
      ],
      "text/plain": [
       "                 Gene Symbol\n",
       "ID                          \n",
       "1007_s_at   DDR1 /// MIR4640\n",
       "1053_at                 RFC2\n",
       "117_at                 HSPA6\n",
       "1294_at     MIR5193 /// UBA7\n",
       "1316_at                 THRA\n",
       "...                      ...\n",
       "91684_g_at            EXOSC4\n",
       "91703_at             EHBP1L1\n",
       "91816_f_at             MEX3D\n",
       "91826_at              EPS8L1\n",
       "91952_at              DCAF15\n",
       "\n",
       "[29873 rows x 1 columns]"
      ]
     },
     "execution_count": 68,
     "metadata": {},
     "output_type": "execute_result"
    }
   ],
   "source": [
    "soft_map.set_index(\"ID\", inplace = True) \n",
    "\n",
    "soft_map = soft_map.loc[data['ID_REF']]\n",
    "soft_map"
   ]
  },
  {
   "cell_type": "code",
   "execution_count": 69,
   "id": "7968d2d0",
   "metadata": {},
   "outputs": [],
   "source": [
    "soft_map.dropna(axis = 0, inplace = True)\n",
    "soft_map['Gene Symbol'] = list(map(lambda x: x.split(\"///\")[0], soft_map['Gene Symbol']))"
   ]
  },
  {
   "cell_type": "code",
   "execution_count": 70,
   "id": "20c21c14",
   "metadata": {},
   "outputs": [
    {
     "data": {
      "text/html": [
       "<div>\n",
       "<style scoped>\n",
       "    .dataframe tbody tr th:only-of-type {\n",
       "        vertical-align: middle;\n",
       "    }\n",
       "\n",
       "    .dataframe tbody tr th {\n",
       "        vertical-align: top;\n",
       "    }\n",
       "\n",
       "    .dataframe thead th {\n",
       "        text-align: right;\n",
       "    }\n",
       "</style>\n",
       "<table border=\"1\" class=\"dataframe\">\n",
       "  <thead>\n",
       "    <tr style=\"text-align: right;\">\n",
       "      <th></th>\n",
       "      <th>Gene Symbol</th>\n",
       "    </tr>\n",
       "    <tr>\n",
       "      <th>ID</th>\n",
       "      <th></th>\n",
       "    </tr>\n",
       "  </thead>\n",
       "  <tbody>\n",
       "    <tr>\n",
       "      <th>1007_s_at</th>\n",
       "      <td>DDR1</td>\n",
       "    </tr>\n",
       "    <tr>\n",
       "      <th>1053_at</th>\n",
       "      <td>RFC2</td>\n",
       "    </tr>\n",
       "    <tr>\n",
       "      <th>117_at</th>\n",
       "      <td>HSPA6</td>\n",
       "    </tr>\n",
       "    <tr>\n",
       "      <th>1294_at</th>\n",
       "      <td>MIR5193</td>\n",
       "    </tr>\n",
       "    <tr>\n",
       "      <th>1316_at</th>\n",
       "      <td>THRA</td>\n",
       "    </tr>\n",
       "    <tr>\n",
       "      <th>...</th>\n",
       "      <td>...</td>\n",
       "    </tr>\n",
       "    <tr>\n",
       "      <th>91684_g_at</th>\n",
       "      <td>EXOSC4</td>\n",
       "    </tr>\n",
       "    <tr>\n",
       "      <th>91703_at</th>\n",
       "      <td>EHBP1L1</td>\n",
       "    </tr>\n",
       "    <tr>\n",
       "      <th>91816_f_at</th>\n",
       "      <td>MEX3D</td>\n",
       "    </tr>\n",
       "    <tr>\n",
       "      <th>91826_at</th>\n",
       "      <td>EPS8L1</td>\n",
       "    </tr>\n",
       "    <tr>\n",
       "      <th>91952_at</th>\n",
       "      <td>DCAF15</td>\n",
       "    </tr>\n",
       "  </tbody>\n",
       "</table>\n",
       "<p>26848 rows × 1 columns</p>\n",
       "</div>"
      ],
      "text/plain": [
       "           Gene Symbol\n",
       "ID                    \n",
       "1007_s_at        DDR1 \n",
       "1053_at           RFC2\n",
       "117_at           HSPA6\n",
       "1294_at       MIR5193 \n",
       "1316_at           THRA\n",
       "...                ...\n",
       "91684_g_at      EXOSC4\n",
       "91703_at       EHBP1L1\n",
       "91816_f_at       MEX3D\n",
       "91826_at        EPS8L1\n",
       "91952_at        DCAF15\n",
       "\n",
       "[26848 rows x 1 columns]"
      ]
     },
     "execution_count": 70,
     "metadata": {},
     "output_type": "execute_result"
    }
   ],
   "source": [
    "soft_map"
   ]
  },
  {
   "cell_type": "code",
   "execution_count": 71,
   "id": "9e4ad789",
   "metadata": {},
   "outputs": [],
   "source": [
    "data.set_index(\"ID_REF\", inplace= True) \n",
    "\n",
    "data.index = data.index.map(dict(zip(soft_map.index, soft_map['Gene Symbol'])))"
   ]
  },
  {
   "cell_type": "code",
   "execution_count": 72,
   "id": "3e5a01d4",
   "metadata": {},
   "outputs": [
    {
     "data": {
      "text/plain": [
       "np.int64(0)"
      ]
     },
     "execution_count": 72,
     "metadata": {},
     "output_type": "execute_result"
    }
   ],
   "source": [
    "data = data[data.index.notnull()]\n",
    "data.index.isnull().sum()"
   ]
  },
  {
   "cell_type": "code",
   "execution_count": 73,
   "id": "e29d012b",
   "metadata": {},
   "outputs": [],
   "source": [
    "import utils.data_utils as du \n",
    "\n",
    "metadata = du.get_metadata(\"./raw_data/GSE45827_series_matrix.txt\")\n",
    "\n",
    "diagnosis_str = du.filter_characteristic(metadata, \"diagnosis\")\n",
    "diagnosis_str = diagnosis_str[0]"
   ]
  },
  {
   "cell_type": "code",
   "execution_count": 74,
   "id": "62706238",
   "metadata": {},
   "outputs": [],
   "source": [
    "def filter_diagnosis(diagnosis_str: str,  keyword: str = \"diagnosis\")-> list: \n",
    "\n",
    "    diagnosis_list  = list(filter(lambda x: keyword in x, diagnosis_str.split(\"\\t\")[1:]))\n",
    "\n",
    "    diagnosis_list = list(map(lambda x: x.strip(\"\\\"\"), diagnosis_list))\n",
    "    \n",
    "    return diagnosis_list"
   ]
  },
  {
   "cell_type": "code",
   "execution_count": 75,
   "id": "c6612156",
   "metadata": {},
   "outputs": [],
   "source": [
    "data = data.T\n",
    "data['diagnosis'] = list(map(lambda x: x.strip(\"\\\"\"), diagnosis_str.split(\"\\t\")[1:]))"
   ]
  },
  {
   "cell_type": "code",
   "execution_count": 76,
   "id": "9abecf90",
   "metadata": {},
   "outputs": [],
   "source": [
    "cell_line_list = filter_diagnosis(diagnosis_str, keyword = \"cell line\")"
   ]
  },
  {
   "cell_type": "code",
   "execution_count": 77,
   "id": "1abb3e5e",
   "metadata": {},
   "outputs": [],
   "source": [
    "data = data[~data['diagnosis'].isin(cell_line_list)]"
   ]
  },
  {
   "cell_type": "code",
   "execution_count": 78,
   "id": "8232cbdd",
   "metadata": {},
   "outputs": [],
   "source": [
    "inputs = data.drop(\"diagnosis\", axis = 1) \n",
    "labels = data['diagnosis']"
   ]
  },
  {
   "cell_type": "code",
   "execution_count": 79,
   "id": "9f3e6a03",
   "metadata": {},
   "outputs": [],
   "source": [
    "from sklearn.model_selection import train_test_split \n",
    "from sklearn.preprocessing import StandardScaler \n",
    "\n",
    "st_scalar = StandardScaler() \n",
    "\n",
    "inputs = st_scalar.fit_transform(inputs) "
   ]
  },
  {
   "cell_type": "code",
   "execution_count": 80,
   "id": "58918985",
   "metadata": {},
   "outputs": [],
   "source": [
    "from imblearn.over_sampling import SMOTE \n",
    "\n",
    "smote_augmentor = SMOTE(sampling_strategy=\"minority\", random_state=1)\n",
    "\n",
    "inputs, labels = smote_augmentor.fit_resample(inputs, labels) "
   ]
  },
  {
   "cell_type": "code",
   "execution_count": 81,
   "id": "0a9c92ca",
   "metadata": {},
   "outputs": [
    {
     "name": "stderr",
     "output_type": "stream",
     "text": [
      "/home/pulkit/programming/miniconda3/lib/python3.13/site-packages/matplotlib/cbook.py:1709: ComplexWarning:\n",
      "\n",
      "Casting complex values to real discards the imaginary part\n",
      "\n",
      "/home/pulkit/programming/miniconda3/lib/python3.13/site-packages/matplotlib/transforms.py:757: ComplexWarning:\n",
      "\n",
      "Casting complex values to real discards the imaginary part\n",
      "\n",
      "/home/pulkit/programming/miniconda3/lib/python3.13/site-packages/matplotlib/text.py:906: ComplexWarning:\n",
      "\n",
      "Casting complex values to real discards the imaginary part\n",
      "\n",
      "/home/pulkit/programming/miniconda3/lib/python3.13/site-packages/matplotlib/text.py:763: ComplexWarning:\n",
      "\n",
      "Casting complex values to real discards the imaginary part\n",
      "\n"
     ]
    },
    {
     "data": {
      "image/png": "[encoded data removed]",
      "text/plain": [
       "<Figure size 2000x1000 with 1 Axes>"
      ]
     },
     "metadata": {},
     "output_type": "display_data"
    }
   ],
   "source": [
    "import matplotlib.pyplot as plt \n",
    "\n",
    "cov_mat = np.cov(x_train)\n",
    "eigen_vals, eigen_vecs = np.linalg.eig(cov_mat)\n",
    "\n",
    "exp_var = []\n",
    "\n",
    "# Sort the eigenvalues in descending order\n",
    "eigen_vals = np.sort(eigen_vals)[::-1]\n",
    "\n",
    "for i in eigen_vals:\n",
    "  var = (i / np.sum(eigen_vals)) * 100\n",
    "  exp_var.append(var)\n",
    "\n",
    "\n",
    "figure = plt.figure(figsize = (20, 10))\n",
    "\n",
    "bar = plt.bar(range(1, len(exp_var)+1), exp_var, align='center',\n",
    "        label='Individual explained variance')\n",
    "\n",
    "# Adding data labels to the top of bars \n",
    "for i, bar in enumerate(bar):\n",
    "    plt.text(bar.get_x() + bar.get_width() / 2, bar.get_height(), f'{round(exp_var[i].real, 2)}%', \n",
    "             ha='center', va='bottom')\n",
    "\n",
    "plt.ylabel('Percentage of variance explained (%)')\n",
    "plt.xlabel('Principal component index')\n",
    "plt.xticks(ticks=list(range(1, len(exp_var)+1)))\n",
    "plt.legend(loc='best')\n",
    "plt.tight_layout()"
   ]
  },
  {
   "cell_type": "code",
   "execution_count": 82,
   "id": "248967e4",
   "metadata": {},
   "outputs": [
    {
     "data": {
      "text/plain": [
       "array([[-1.32977041e+02, -6.89190375e+01,  7.49951587e+01],\n",
       "       [-1.21310666e+02, -5.32622426e+01,  5.80312292e+01],\n",
       "       [-1.02965985e+02, -1.26700942e+01, -2.37627827e+01],\n",
       "       [-1.16696319e+02, -7.89009095e+01,  8.16579210e+01],\n",
       "       [-1.24790026e+02, -4.27851075e+01, -2.21907386e+01],\n",
       "       [-1.01658715e+02,  7.67601558e-01, -8.78335789e+00],\n",
       "       [-1.16306075e+02, -4.81096188e+01,  5.56673019e+01],\n",
       "       [-1.28346807e+02, -3.97183961e+01,  5.85160489e+01],\n",
       "       [-9.79874786e+01, -2.97718451e+01,  5.36524663e+01],\n",
       "       [-1.11712004e+02, -5.24258787e+01,  4.95880060e+01],\n",
       "       [-1.23427886e+02, -3.30313395e+01,  5.30416483e+01],\n",
       "       [-1.16223842e+02, -2.41784616e+01, -2.31205335e+01],\n",
       "       [-1.17186541e+02, -3.95148644e+01, -1.08788256e+00],\n",
       "       [-1.08856569e+02, -1.17277797e+01, -2.19338145e+00],\n",
       "       [-1.32945647e+02, -2.42528836e+01, -1.30069982e+01],\n",
       "       [-1.31681703e+02, -3.89332172e+01,  6.44765370e+01],\n",
       "       [-1.03479163e+02, -1.46981777e+01, -1.98398199e+01],\n",
       "       [-1.26049166e+02, -5.90787112e+01,  6.51642641e+01],\n",
       "       [-1.06363148e+02, -2.58389313e+01,  5.90536582e+01],\n",
       "       [-1.15974029e+02, -2.89329741e+01, -6.53058525e+00],\n",
       "       [-1.33190040e+02, -2.73207705e+01, -1.35300439e+01],\n",
       "       [-1.05255422e+02, -2.27632029e+01, -2.53280011e+01],\n",
       "       [-9.77080607e+01, -3.86676430e+01,  5.98654698e+01],\n",
       "       [-9.23248329e+01, -2.18502707e+01, -3.51351046e+01],\n",
       "       [-1.17219711e+02, -2.25327583e+01,  1.31247322e+01],\n",
       "       [-1.32880255e+02, -5.56646452e+01,  5.30594935e+01],\n",
       "       [-1.07413590e+02, -2.60179499e+01,  5.35452650e+01],\n",
       "       [-9.23986298e+01, -6.02647037e+01,  8.23105645e+01],\n",
       "       [-7.78910123e+01, -4.84078994e+01,  5.10856758e+01],\n",
       "       [-1.14858867e+02, -6.14682984e+01,  5.97972055e+01],\n",
       "       [-1.08859693e+02, -3.31717432e+01,  3.17304539e+01],\n",
       "       [-1.08948705e+02, -4.22645705e+01,  5.20019096e+01],\n",
       "       [-1.05608816e+02, -4.01549129e+01, -2.33139934e+01],\n",
       "       [-1.02097860e+02, -3.00336144e+01,  4.78322186e+00],\n",
       "       [-1.23477879e+02, -5.40584326e+01,  6.13351212e+01],\n",
       "       [-1.00494113e+02,  1.54910647e+01,  4.34915757e+01],\n",
       "       [-1.40535758e+02, -6.93052416e+01,  6.66618683e+01],\n",
       "       [-1.22127054e+02, -2.46471425e+01, -1.29999619e+01],\n",
       "       [-1.10195492e+02,  7.23154612e+00, -1.80407275e+01],\n",
       "       [-1.08239324e+02, -1.58102003e+00, -2.27903569e+00],\n",
       "       [-1.30083318e+02, -3.47184028e+01,  5.71794051e+01],\n",
       "       [-1.14697576e+02, -2.35550807e+01,  2.57266072e+01],\n",
       "       [-1.18398109e+02, -4.47178235e+01, -2.31186168e+01],\n",
       "       [-7.22593478e+01, -6.89758109e+00, -9.98700942e+00],\n",
       "       [-9.09486031e+01, -3.65405894e+01,  4.23188031e+01],\n",
       "       [-1.03310817e+02, -1.77968799e+01, -2.31101111e+01],\n",
       "       [-1.29303970e+02, -3.94625638e+01,  8.10564709e+00],\n",
       "       [-1.13133339e+02, -7.75344827e+01,  6.58194962e+01],\n",
       "       [-1.14007487e+02, -3.99708941e+01, -1.98313777e+01],\n",
       "       [-1.06649035e+02, -2.89250392e+01, -4.95784051e+00],\n",
       "       [-9.53575983e+01,  1.24500883e+01,  2.32098356e+01],\n",
       "       [-1.05591832e+02, -3.09236775e+01,  4.76158231e+01],\n",
       "       [-1.21407549e+02, -5.37413902e+01,  6.18239536e+01],\n",
       "       [-8.37604194e+01, -1.27731586e+01, -3.28712354e+01],\n",
       "       [-8.60517428e+01, -4.14473778e+01,  6.45825693e+01],\n",
       "       [-1.04229704e+02, -5.65391071e+01,  7.54929881e+01],\n",
       "       [-6.94675271e+01,  2.42720269e+00,  3.12020651e+01],\n",
       "       [-1.22526675e+02, -4.92040617e+01,  5.54701014e+01],\n",
       "       [-9.21035456e+01, -3.95603649e+01,  4.18933470e+01],\n",
       "       [-1.01915495e+02, -4.59257754e+01,  5.71455192e+01],\n",
       "       [-8.15356700e+01, -3.60511399e+01,  4.41172784e+01],\n",
       "       [-1.04474698e+02, -5.18318815e+01,  6.28068702e+01],\n",
       "       [-8.96802110e+01, -5.29642595e+01, -4.64934225e+00],\n",
       "       [-1.05203720e+02, -4.74660507e+01,  4.16260243e+01],\n",
       "       [-9.85174362e+01, -7.88486486e+01,  6.67765847e+01],\n",
       "       [-8.60480799e+01, -2.79355415e+01,  3.06275670e+01],\n",
       "       [-8.82880892e+01, -6.77196559e+01,  5.58823267e+01],\n",
       "       [-9.25813479e+01, -8.18409693e+00, -5.38172635e+00],\n",
       "       [-7.87024711e+01, -1.06662485e+01, -2.74863192e+01],\n",
       "       [-1.02801379e+02, -4.25828301e+01, -3.14517902e+01],\n",
       "       [-1.16502957e+02, -2.86748638e+01, -1.35553758e+01],\n",
       "       [ 1.83455392e+02, -1.00760343e+02, -3.71150976e+01],\n",
       "       [ 1.63287866e+02, -2.44026899e+01,  2.21818358e+01],\n",
       "       [ 5.22526835e+01,  8.77831464e+01,  5.02270144e+01],\n",
       "       [ 1.63938202e+01,  9.57596682e+01,  3.27158784e+01],\n",
       "       [ 6.25675607e+01,  3.87577504e+01, -2.05022449e+00],\n",
       "       [ 1.01832461e+02,  2.34370425e+01,  6.29157351e+00],\n",
       "       [ 6.65877800e+01,  1.12457833e+01, -9.88196064e+00],\n",
       "       [ 1.62325010e+02, -9.03827028e+01, -1.51057975e+01],\n",
       "       [ 6.27266873e+01,  7.61663515e+01,  2.87112843e+01],\n",
       "       [ 9.38934068e+01,  7.15544957e+00,  1.34898775e-01],\n",
       "       [ 1.63573885e+02, -7.06524245e+01, -2.59489845e+01],\n",
       "       [-9.21375254e+01,  2.53617866e+01, -5.33832443e+01],\n",
       "       [-7.86507363e+01,  1.61375382e+01, -4.93425833e+01],\n",
       "       [-4.19027947e+01, -2.28681131e+01, -3.73950380e+01],\n",
       "       [-1.37541090e+02, -1.25192411e+01, -3.95621072e+01],\n",
       "       [-7.47022888e+01,  4.21406972e+01, -4.34449980e+01],\n",
       "       [-8.70778201e+01, -7.76642572e+00, -1.02262407e+01],\n",
       "       [-1.00396925e+02,  1.09424735e+01, -4.87302722e+01],\n",
       "       [-9.48602680e+01,  4.13179518e+01, -4.81562627e+01],\n",
       "       [-9.12586751e+01,  8.39772775e+00, -3.84918614e+01],\n",
       "       [-1.21699180e+02, -9.79107527e+00, -2.56404820e+01],\n",
       "       [-8.01541523e+01,  6.06077204e+01, -1.08317548e+01],\n",
       "       [-8.34397273e+01,  2.18213936e+00, -4.45107674e+01],\n",
       "       [-6.06362207e+01,  2.93163610e+01, -7.16827165e+01],\n",
       "       [-8.84343900e+01,  1.51643612e+01, -3.07074597e+01],\n",
       "       [-7.70571897e+01,  5.53728691e+01, -3.39809385e+01],\n",
       "       [-8.22602599e+01,  4.19005577e+01, -4.02070261e+01],\n",
       "       [-9.07368103e+01,  1.62495232e+01, -3.64803603e+01],\n",
       "       [-7.28273271e+01,  9.42584714e+00, -4.72954635e+01],\n",
       "       [-2.51144101e+01, -2.92790433e+01, -5.31113515e+01],\n",
       "       [-6.89118464e+01,  4.51275509e+01, -5.63142312e+01],\n",
       "       [-7.38430861e+01,  4.18765092e+01, -5.61014129e+01],\n",
       "       [-9.31802384e+01,  5.51144911e-01, -6.40451816e+01],\n",
       "       [-9.41513268e+01, -1.92300080e+00, -3.53086621e+01],\n",
       "       [-5.57370420e+01,  3.37225367e+01, -4.64730346e+01],\n",
       "       [-7.08056206e+01,  5.53610643e+01, -1.39632192e+01],\n",
       "       [-8.41012147e+01,  4.14914209e+01, -5.27880517e+01],\n",
       "       [-1.16597820e+02,  3.47080034e+01, -6.30060851e+01],\n",
       "       [-1.07663661e+02, -2.21922335e+01, -3.73458767e+01],\n",
       "       [-8.29821051e+01,  3.06466907e+01, -5.48129789e+01],\n",
       "       [-7.94829213e+01,  4.66840781e+01, -3.72644829e+01],\n",
       "       [-9.93772064e+01,  1.66216903e+01, -4.66047641e+01],\n",
       "       [-8.31419613e+01, -1.58116149e+00, -2.15438898e+01],\n",
       "       [-1.02528683e+02, -3.62300506e+00, -3.20026602e+01],\n",
       "       [-8.48465943e+01,  4.46735701e+01, -6.60655107e+01],\n",
       "       [-1.25668167e+02, -1.86738254e+01, -4.94996910e+01],\n",
       "       [-6.69913328e+01,  5.44160971e+00, -4.19297557e+01],\n",
       "       [-1.02068890e+02,  4.77795504e+01, -6.14590683e+01],\n",
       "       [-9.60525630e+01,  4.06108889e+01, -4.88940203e+01],\n",
       "       [-1.32126016e+02, -1.39239478e+01, -4.46985743e+01],\n",
       "       [-1.06199445e+02,  2.30517384e+00, -2.20090048e+01],\n",
       "       [-3.22662387e+01,  3.70872393e+01, -4.10262401e+01],\n",
       "       [-4.31160419e+01,  3.65946490e+01, -6.32296775e+01],\n",
       "       [-1.02890509e+02,  1.04497041e+01, -3.33770539e+01],\n",
       "       [-6.01391195e+01,  7.16615230e+01, -6.76160111e+00],\n",
       "       [-4.16760190e+01,  3.13159859e+01, -5.27295158e+01],\n",
       "       [-7.96776204e+01,  3.44848710e+01, -6.86292557e+01],\n",
       "       [-1.10386065e+02,  8.32553052e+00, -4.15019545e+01],\n",
       "       [-8.62322740e+01,  6.64578714e-01, -9.50932453e+00],\n",
       "       [-1.10734776e+02,  4.38297144e+01, -4.30218645e+01],\n",
       "       [-8.58746358e+01,  2.16095334e+00, -3.56690020e+01],\n",
       "       [-3.82635219e+01, -2.34743862e+01, -4.31370802e+01],\n",
       "       [-8.35262979e+01,  2.80228870e+01, -5.69217783e+01],\n",
       "       [-6.12448175e+01,  2.28722636e+01, -7.53899933e+01],\n",
       "       [-1.13631074e+02, -1.93517972e+01, -4.91777604e+01],\n",
       "       [-8.96734508e+01,  2.13861254e+01, -6.87957251e+01],\n",
       "       [-9.57909181e+01,  2.25488273e+01, -5.66855618e+01],\n",
       "       [-1.08438584e+02, -1.12172971e+01, -2.35836110e+01],\n",
       "       [-9.83932790e+01,  1.27215315e+01, -3.87830991e+01],\n",
       "       [-9.00127758e+01, -8.72993194e-02, -3.82087724e+01],\n",
       "       [ 1.59471911e+02, -8.73540359e+01, -1.49501200e+01],\n",
       "       [ 6.61365166e+01,  1.88333438e+01, -5.37139349e+00],\n",
       "       [ 7.90648416e+01,  5.29855334e+01,  2.64672469e+01],\n",
       "       [ 1.18238451e+02,  2.06502475e+01,  2.51068993e+01],\n",
       "       [ 7.70182504e+01,  7.40059180e+00, -6.42342720e+00],\n",
       "       [ 3.87129382e+01,  9.07949561e+01,  4.36150836e+01],\n",
       "       [ 1.63441866e+02, -4.93046892e+01, -3.73298641e+00],\n",
       "       [ 4.66166976e+01,  8.29789696e+01,  3.01036862e+01],\n",
       "       [ 1.76272978e+02, -8.98835255e+01, -3.30812162e+01],\n",
       "       [ 4.27594213e+01,  6.32110851e+01,  1.28641360e+01],\n",
       "       [ 1.70591808e+02, -5.20566460e+01,  7.06649883e-01],\n",
       "       [ 5.85153474e+01,  7.96552757e+01,  4.46773142e+01],\n",
       "       [ 1.20871063e+02,  8.61651285e+00,  1.12143039e+01],\n",
       "       [ 7.62062034e+01,  9.80496077e+00, -6.35351590e+00],\n",
       "       [ 1.38726454e+02, -1.32330308e+01,  1.43785630e+01],\n",
       "       [ 7.49325555e+01,  1.41322705e+01, -6.05260233e+00],\n",
       "       [ 1.38730584e+02, -4.29114491e+01, -1.66492526e+01],\n",
       "       [ 6.55939350e+01,  1.80470620e+01, -7.94586425e+00],\n",
       "       [ 7.79477846e+01, -8.13266937e-01, -1.05018116e+01],\n",
       "       [ 1.69795433e+01,  9.47734593e+01,  3.22187959e+01],\n",
       "       [ 6.45700684e+01,  2.50537901e+01, -5.95128329e+00],\n",
       "       [ 4.96065858e+01,  8.83717500e+01,  4.89348325e+01],\n",
       "       [ 9.35010336e+01,  3.46709440e+01,  1.10680598e+01],\n",
       "       [ 9.93168636e+01,  2.44185993e+01,  5.75713679e+00],\n",
       "       [ 7.14752266e+01,  4.91340208e+01,  1.56804028e+01],\n",
       "       [ 6.57540070e+01,  1.56974298e+01, -6.38583924e+00],\n",
       "       [ 1.37109011e+02, -4.11007382e+01, -1.60422399e+01],\n",
       "       [ 9.42947448e+01, -1.53086209e+01, -1.63383907e+01],\n",
       "       [ 2.69401335e+01,  8.27401450e+01,  2.47751266e+01],\n",
       "       [ 4.86526194e+01,  5.59358766e+01,  8.42690549e+00],\n",
       "       [ 2.69234671e+01,  9.13068743e+01,  3.18057909e+01],\n",
       "       [ 1.04549630e+02, -4.74369481e+00, -3.85410486e+00],\n",
       "       [ 6.42615447e+01,  2.71651410e+01, -5.35025237e+00],\n",
       "       [ 6.68337490e+01,  1.12089376e+01, -9.79172880e+00],\n",
       "       [ 6.26803883e+01,  6.52820393e+01,  1.97609933e+01],\n",
       "       [ 5.71072856e+01,  6.47097945e+01,  2.56232125e+01],\n",
       "       [ 2.73009214e+01,  9.11472559e+01,  3.17731672e+01],\n",
       "       [ 1.18090953e+02, -7.74085440e+00,  7.19545193e+00],\n",
       "       [ 1.46756297e+02, -1.15337516e+01,  1.79073385e+01],\n",
       "       [ 6.26999051e+01,  6.98702067e+01,  2.35338944e+01],\n",
       "       [ 1.72336531e+02, -5.86624643e+01, -4.42321931e+00],\n",
       "       [ 1.82062066e+02, -9.86503348e+01, -3.63325597e+01],\n",
       "       [ 3.33362380e+01,  9.19909607e+01,  4.09894530e+01],\n",
       "       [ 8.85945591e+01,  5.02964570e+01,  2.70316805e+01],\n",
       "       [ 6.85807473e+01,  3.26914967e+01, -1.63077680e+00],\n",
       "       [ 5.70419996e+01,  6.50200911e+01,  2.59540910e+01],\n",
       "       [ 1.68153845e+02, -7.75881691e+01, -2.85212416e+01],\n",
       "       [ 7.80529984e+01,  4.22300706e+01,  1.46587764e+01],\n",
       "       [ 7.08829125e+01,  6.51686886e+01,  2.40352431e+01],\n",
       "       [ 1.58329773e+02, -1.94442093e+01,  2.25037653e+01],\n",
       "       [ 6.45018415e+01,  2.55206942e+01, -5.81837133e+00],\n",
       "       [ 1.52700430e+02, -1.61609397e+01,  1.94442876e+01],\n",
       "       [ 1.75081141e+02, -9.66475462e+01, -2.83925195e+01],\n",
       "       [ 1.55837308e+02, -2.10144407e+01,  1.98147597e+01],\n",
       "       [ 8.25852104e+01,  3.09470961e+01,  2.20250987e+00],\n",
       "       [ 1.01010239e+02, -7.91475742e-01, -2.52918471e+00],\n",
       "       [ 1.77354674e+02, -9.77641331e+01, -3.07606202e+01],\n",
       "       [ 1.56370333e+02, -7.48019750e+01, -3.08035876e+01],\n",
       "       [ 9.28805773e+01,  8.17721742e+00,  6.42492139e-02],\n",
       "       [ 1.13286797e+02, -1.44999476e+01, -7.12473731e+00],\n",
       "       [ 6.36287255e+01,  6.09994446e+01,  1.96950331e+01],\n",
       "       [ 5.67920315e+01,  8.18918461e+01,  4.62044418e+01],\n",
       "       [ 9.73066709e+01,  1.41554492e+01,  2.78185851e+00],\n",
       "       [ 1.37770506e+02, -3.13299392e+01, -1.24747997e+01],\n",
       "       [ 3.33785186e+01,  7.47918980e+01,  1.99274024e+01],\n",
       "       [ 7.16940696e+01,  1.04808703e+01, -8.00875754e+00],\n",
       "       [ 1.69334751e+02, -7.93764950e+01, -2.91844774e+01],\n",
       "       [ 2.94878776e+01,  9.02224323e+01,  3.15841465e+01],\n",
       "       [ 4.71601121e+01,  4.39570436e+01,  6.60561419e+00],\n",
       "       [ 3.61737764e+01,  8.73950888e+01,  3.10062778e+01],\n",
       "       [ 1.68507024e+02, -7.81230129e+01, -2.87195990e+01],\n",
       "       [ 1.33457951e+02, -5.28427071e+01, -2.54644176e+01],\n",
       "       [ 8.67342598e+01,  1.82145215e+01, -6.36883946e-01],\n",
       "       [ 8.26140326e+01,  3.21308016e+01,  1.04768197e+01],\n",
       "       [ 5.88911146e+01,  2.42050137e+01, -3.35007284e+00],\n",
       "       [ 1.92939779e+01,  9.21793962e+01,  3.05322307e+01],\n",
       "       [ 1.06969526e+02,  1.94381132e+01,  7.61984255e+00],\n",
       "       [ 9.56244504e+01,  1.07055131e+01,  1.47730960e+00],\n",
       "       [ 8.01101439e+01,  1.59232166e+01, -3.67664373e+00],\n",
       "       [ 6.23496291e+01,  7.65845496e+01,  2.94858385e+01],\n",
       "       [ 6.26716810e+01,  6.32350874e+01,  1.80777620e+01],\n",
       "       [ 1.50739133e+02, -1.97766015e+01,  1.80209294e+01],\n",
       "       [ 1.77235464e+02, -9.77055861e+01, -3.06364516e+01],\n",
       "       [ 1.69949164e+02, -9.41271084e+01, -2.30470777e+01],\n",
       "       [ 4.98861668e+01,  5.44130508e+01,  7.49811708e+00],\n",
       "       [ 1.57263193e+02, -8.31679038e+01, -1.39784585e+01],\n",
       "       [ 9.58830197e+01,  3.14591297e+01,  9.70244461e+00],\n",
       "       [ 1.46852100e+02, -7.39576568e+01, -1.42615287e+01],\n",
       "       [ 9.65960719e+01,  2.78695733e+01,  7.91107424e+00],\n",
       "       [ 1.62682359e+02, -6.58952832e+01, -1.26709268e+00],\n",
       "       [ 1.58257988e+02, -1.93724190e+01,  2.25084263e+01],\n",
       "       [ 8.68200359e+01,  8.21502779e+00, -2.45991300e+00],\n",
       "       [ 5.15958359e+01,  3.64884109e+01,  2.84117223e+00],\n",
       "       [ 5.43931313e+01,  8.54091599e+01,  4.58301001e+01],\n",
       "       [ 1.72361843e+01,  9.47197617e+01,  3.20816279e+01],\n",
       "       [ 5.77700534e+01,  7.82624208e+01,  2.91396910e+01],\n",
       "       [ 7.02269959e+01,  5.95587948e+01,  2.18343427e+01],\n",
       "       [ 3.25028890e+01,  7.58728710e+01,  2.05866998e+01],\n",
       "       [ 1.00433829e+02,  2.29532506e+01,  5.64975104e+00],\n",
       "       [ 1.13270764e+02,  1.45329376e+01,  9.24912688e+00],\n",
       "       [ 1.78734988e+02, -9.36119141e+01, -3.44639624e+01],\n",
       "       [ 8.39558403e+01,  3.04122922e+01,  2.49369914e+00],\n",
       "       [ 5.78230358e+01,  8.16050276e+01,  3.87843800e+01],\n",
       "       [ 9.47614318e+01,  8.93561492e+00,  8.08045380e-01],\n",
       "       [ 7.05752957e+01,  1.06484606e+01, -8.41917115e+00],\n",
       "       [ 7.85057984e+01,  2.26788556e+01, -9.38458380e-01],\n",
       "       [ 5.26101806e+01,  5.10502300e+01,  5.44709536e+00],\n",
       "       [ 1.64972989e+02, -3.07828527e+01,  1.72272036e+01],\n",
       "       [ 1.26096415e+02, -2.88036550e+01, -1.19198334e+01],\n",
       "       [ 5.36170042e+01,  8.12986909e+01,  4.33124465e+01],\n",
       "       [ 1.67306675e+02, -9.28293185e+01, -2.02946746e+01],\n",
       "       [ 1.79225925e+02, -9.43553740e+01, -3.47396891e+01],\n",
       "       [ 5.30186501e+01,  8.41425973e+01,  4.63449886e+01],\n",
       "       [ 1.56666298e+02, -2.13914360e+01,  2.00781336e+01],\n",
       "       [ 1.53559086e+02, -5.53905945e+01, -2.07193883e+01],\n",
       "       [ 7.65640716e+01,  3.32964745e+01,  9.23323524e-01],\n",
       "       [ 1.56674032e+02, -2.13949528e+01,  2.00805905e+01],\n",
       "       [ 1.71761845e+02, -8.29674520e+01, -3.08965274e+01],\n",
       "       [ 9.84120975e+01,  2.78760914e+01,  9.32255071e+00]])"
      ]
     },
     "execution_count": 82,
     "metadata": {},
     "output_type": "execute_result"
    }
   ],
   "source": [
    "from sklearn.decomposition import PCA \n",
    "\n",
    "pca = PCA(n_components=3) \n",
    "\n",
    "new_data = pca.fit_transform(inputs) \n",
    "\n",
    "new_data"
   ]
  },
  {
   "cell_type": "code",
   "execution_count": 83,
   "id": "6aebb2e4",
   "metadata": {},
   "outputs": [
    {
     "data": {
      "application/vnd.plotly.v1+json": {
       "config": {
        "plotlyServerURL": "https://plot.ly"
       },
       "data": [
        {
         "hovertemplate": "color=diagnosis: Breast cancer<br>pc1=%{x}<br>pc2=%{y}<br>pc3=%{z}<extra></extra>",
         "legendgroup": "diagnosis: Breast cancer",
         "marker": {
          "color": "#636efa",
          "opacity": 0.8,
          "symbol": "circle"
         },
         "mode": "markers",
         "name": "diagnosis: Breast cancer",
         "scene": "scene",
         "showlegend": true,
         "type": "scatter3d",
         "x": {
          "bdata": "k1k47EOfYMBvQSPz4VNewFHmRLLSvVnAJJMefJAsXcCmzXHIjzJfwM54dmQoalnANUZbvZYTXcD13ogKGQtgwLVrdtkyf1jAkC6qeJHtW8BOY7B8YttewFGYzG5TDl3AGtx6SvBLXcB+QzsI0jZbwNLCHb5CnmDAolR3g9B1YMBFF8Kcqt5ZwMruYoglg1/AFeydzz2XWsBi3hd9Vv5cwJeczc0UpmDAMJjh1VhQWsAbX8rdUG1YwNP3GhDKFFfACPeqvw9OXcCls7sMK5xgwMz1k0N42lrAkmeqJoMZV8BdskhYBnlTwCerUKv3tlzA7zJbNAU3W8Dao8CTtzxbwLpPb9j2ZlrAk5XnV0OGWcDdycOQld5ewNvlvYqfH1nAYocA7iSRYcC3R8GoIYhewAwd1u6CjFvAGdp1FlEPW8DSjseJqkJgwNBJxRSlrFzA17H6nnqZXcA9SoYnmRBSwPXInOm1vFbAfIEDa+TTWcD1oe4fuilgwPwM/KGISFzAPhooqXqAXMCi6kzKialawC9sMOTi1lfAbEWekuBlWsC9AipJFVpewALUQraq8FTAuvMZwU+DVcDG8XF5sw5awDMnt/brXVHAacfECrWhXsDmlOx9oAZXwHDkiXeXelnA+acAa0hiVMDi0ZJyYR5awCR3g5OIa1bAf0u1vwlNWsDZpd2sHaFYwGx4y70Tg1XA7XvYDXASVsAokeDNNCVXwMNnNEn1rFPA6VwnyUmzWcDetXtyMCBdwG78RTfNCFfAB2y6qaWpU8AWRR/HjvNEwMw1FZtQMWHA+PzbTPKsUsDSOv4A+8RVwPqfADhnGVnAe0xcoQ63V8DiSTAijtBWwNgWHF+/bF7APzuPod0JVMDodMV9JNxUwAq6tK1vUU7ALRGQC80bVsDwUtb+qENTwHHxQBmokFTA6weU5ievVsBj+mzt8jRSwD+ZNvtJHTnA980NsVs6UcAKI5cf9XVSwFG0rgaJS1fAVlxvVq+JV8BIwhpkV95LwDJky0mPs1HAhUZpTXoGVcCzggWtQiZdwK3IH2x56lrAZmtSz9q+VMAYQ5ou6N5TwDBkUiYk2FjANPW15BXJVMBHVBTy1aFZwCFkvJkuNlXArhgdPsNqX8DioAH/cb9QwOlGha9ohFnAhRBRMV0DWMCqKrZSCIRgwAb4bbTDjFrAwQBAHBQiQMDFbz922o5FwJhHTBv+uFnAXplNq84RTsDg3KXKh9ZEwJaF7yFe61PAzQnySbWYW8BAKfaT3Y5VwB9lqpIGr1vA5mRcCPp3VcBu/ssVuyFDwE0iXt2u4VTA15QaLlafTsBAntuFY2hcwBDLYdEZa1bAUZsRZ57yV8AvFy/BERxbwCSwsXsrmVjAMDrMUdGAVsA=",
          "dtype": "f8"
         },
         "y": {
          "bdata": "AaqZgtE6UcAui8YqkaFKwPsIKJUWVynAVlhKgKi5U8DdCOBmfmRFwCyKTiQxkOg/7u4W/QcOSMC92PVm9NtDwJo+oaSXxT3AtCRUMYM2SsD73VzuAoRAwBx3z6ivLTjAVQUAFOfBQ8AGnM+Kn3QnwCuIRvq8QDjAvohqqXN3Q8ChmgCMd2UtwFaYGzUTik3AZ/HqM8TWOcAfknNj1+48wOvmggQeUjvAswekRGHDNsAuoXhTdVVDwFaE/Far2TXAQ2kZ2WKINsD9c14YE9VLwHkW+12YBDrAbPRsz+EhTsABl0IMNjRIwGJhcTPxu07AJMRarvuVQMARIwBy3SFFwFfHTC/UE0TAMStj9JoIPsC1I2S4egdLwJxZmtVs+y5Ae6QdFIlTUcC+3mchq6U4wBTw62wa7RxAWdaMp9tL+b8nvNWf9FtBwCOFn8UZjjfAHsi7o+FbRsAbLf1+H5cbwHjj4ggyRULAgTJeUgDMMcCb5MBKNbtDwNPzz/Y0YlPAWIYiQkb8Q8D5QKFdz+w8wOVMa/lx5ihAzseJIXbsPsCInV7f5d5KwHuVlHHbiynA9jm0rEO5RMDb1RZ2AUVMwDDLTD7pagNAguZbsR6aSMDdGZEJusdDwI4NlM5/9kbA4lV2wIsGQsDcJQUYe+pJwIU8D9tse0rAFc3sjKe7R8CfvAtCULZTwAmvjaV/7zvAm0a/1w7uUMANWfTzQV4gwEQsZIUeVSXA6sR5LZpKRcDWQNLfw6w8wHJDsQyeXDlAgAsYtDUjMEBdLKKoPN42wO6/0vfZCSnA3rv1XQISRUCKP43n0RAfwKNKKeKL4iVAB9O9pLKoREAEyqz4ossgQPzmPdEHlSPA1EVpyMlNTkAc+rN7BXUBQCOxNgj9UD1AoPRwJidULkBQLvosuq9LQED4r3lF80RA6Srov+A/MED8iAyjCNoiQILDRWFvRz3AwyiEllOQRkCxTBR0MfBEQEtD96b6ouE/NWc+fZzE/r8fvxcVfNxAQCnSvlo3rktA129z4ea+REBE2jnbn1pBQEFIRzc2MTbAwriUhY2lPkCYzqLej1dHQCB4yRcnnzBAQwof/m9M+b9flDcU6vsMwH+my4s3VkZArMWJ0n+sMsC8nx9WNcQVQNBFm07I40dA9fGRmzFOREAl/F6uD9krwOionvv+cAJA0K7zpyqLQkDbhFJ1HUxCQOjteJ4/5iRAxjisZFbqUUA8RPty5FA/QPMJ4UAQPkFA3/u376umIEA1KV6UOkTlP1F9IhU06kVAABZX56FJAUD3unVgcXk3wPV+WOzbBTxAVYknqkzfNkAlmQ5hD1ozwC0LqRzZYjVAPr8B8n+MNkAh9USPQW8mwCYJ4ZNscSlAMLjDiT9Ztr8=",
          "dtype": "f8"
         },
         "z": {
          "bdata": "nVs2rrC/UkDf+DlR/wNNQAhHL7pFwzfAzDnFYBtqVECpPao+1DA2wIvhB0kUkSHAAPNZJmrVS0ACO73jDUJNQK6FIQSE00pAEXQvyEPLSEB2Lyq7VIVKQFARu0fbHjfANn9ki/dn8b/CaEKSC4wBwDH28UOVAyrAgw/2lH8eUEAahrpv/tYzwNZ5fU2DSlBAN2xaRd6GTUA0pg29UR8awJRBQOthDyvASQC34PdTOcA+N+m2x+5NQN7YdhtLkUHABOuO59w/KkBiVN57nYdKQNDeQz7LxUpAs2TxSeCTVEASGdRs94pJQMJRONQK5k1AlYlWBv+6P0DVXgmTPgBKQKQ1Mt9hUDfAzK536QQiE0CPRGlA5apOQKTjkfPrvkVA5YXtDFyqUEC2lYUA+/8pwGRKoR1tCjLA9X3UD3c7AsC47u++9pZMQFW0Nu4CujlAJH9rrF0eN8BlJZZMWfkjwLm5GYrOKEVAVb7oPTAcN8BS0vtfFzYgQO1rPqBydFBAyM5uKtXUM8CNd0sk1NQTwEcwJ8m3NTdAmmjsStPOR0DNb29Pd+lOQIIRLKSEb0DAdkjn0EglUECDs9Adjd9SQDQqlIm6Mz9ABXkFSCy8S0AUvuExWfJEQHUhm1+gkkxACClR+gIPRkC8p4KFR2dPQEzU4yztmBLAwbqIkCHQRED20mOQs7FQQK9c6TqooD5A3BbBFPDwS0CO37lF44YVwHpm32p/fDvA8ztDhahzP8D9J644WhwrwDtPRyYOsUrAIuj6xNmrSMAG6JqakLJCwD9/yCDzx0PAEdWLsfW4RcBRZ5bQ1XMkwMTnm495XUjATciragAUSMA1HJtQ9T5DwF1zgqD2oznA55VGxdupJcD9WRnTYEFGwATgkaCx61HAh3S8Exy1PsB4cu5kj/1AwI8PstR/GkTA+NL3cXw9QsDQ4Ju/0aVHwPZNyMNAjkrA8RcbujgoTMCIbBQZ+wxMwC4SiUHkAlDAIiaBPYKnQcDNoZZljDxHwFFdTBAr7SvAaivP4N5kSsBJNJJlx4BPwP9Vrq9FrELAHquLsQ9oS8AnHr6T2qFCwPZqyuhoTUfALy/dXDyLNcA5LZ4rVwBAwOr4+FMxhFDAvNya3/W/SMC8H/w7AvdEwA/yT8DCuk7ApW3LQW9ySMBGcMfhallGwKeXGCROAjbAppNO1luDRMBNxJUSZp1PwJjWeE1DsEDAJrVVKeELG8BkAN/FYF1KwMgWfrlFKFHAa5bdC0DARMChJm0vxgQjwJZDxXTMgkXAeR8g26HVQcDT2CjYi5FFwM/2HNX8dUzAVq2opvXYUsCZ7prawJZIwDZG+ijtMlHAqM9zfcBXTMAHXC6HZ5U3wHm4jpc8ZEPAN3uGDbkaQ8A=",
          "dtype": "f8"
         }
        },
        {
         "hovertemplate": "color=diagnosis: None (normal)<br>pc1=%{x}<br>pc2=%{y}<br>pc3=%{z}<extra></extra>",
         "legendgroup": "diagnosis: None (normal)",
         "marker": {
          "color": "#EF553B",
          "opacity": 0.8,
          "symbol": "circle"
         },
         "mode": "markers",
         "name": "diagnosis: None (normal)",
         "scene": "scene",
         "showlegend": true,
         "type": "scatter3d",
         "x": {
          "bdata": "5rw9kZLuZkCez9wxNmlkQJzqoe5XIEpAro0GZ9FkMEDxxVzUpUhPQMA7VgpHdVlADTkFMJ6lUEAAPA58ZkpkQHRKOhcEXU9ATlK6ky15V0DtaddEXXJkQAvQv+QZ72NAHWZFsLyIUEBDik9dJsRTQCD2vcZCj11ArYnFAytBU0BSZEaPQVtDQI0xhcMjbmRAXYPR8u9OR0A/Awo9vAhmQIK5/7c0YUVAtieoFvBSZUAKBxLn9kFNQFK+kIC/N15AqZnibzINU0DqQJocP1dhQAMDW/2uu1JAOvg18mBXYUCpLtUHA2ZQQNwFsoCofFNAuUr0WMP6MEAICzEAfCRQQLXUwJqkzUhAtb4G7xBgV0BYvHR+R9RYQK+Vphxq3lFAj93IpkFwUEC+fsMDfSNhQNU5HxndkldAcYIJl6zwOkA592EIiVNIQOwSrFdo7DpAbqZpIy0jWkBTHgsmvRBQQKxlyyRctVBAC+xi9hZXT0DJJBuJu41MQIRtHy8JTTtAWiEHLdKFXUBeRgiWM1hiQDE7732WWU9AiRWi3cSKZUAwO3lx/MFmQJwWz9gJq0BA0xSmQQ0mVkCw5qH2KiVRQKWAeD5ghUxATwFDTOwEZUBo4FJTZINTQIQDg6OBuFFAmQRUf43KY0Ae8bwrHiBQQL1snOtpFmNAMvZYtJjiZUA7fik7y3pjQIZqdBZ0pVRABasnwKdAWUC6uJJ8WStmQOiGRcXZi2NAtoXxYFs4V0DX9k3gWlJcQEuwLRR60E9AJpGgSWFlTEBtftt+oFNYQIt8O/unOGFAbeHUS3OwQECtpLKia+xRQO9d+0a2KmVAa8MQjOV8PUDm+veNfpRHQLTFg04+FkJA2eBTizkQZUCW08yIp65gQOIuqRz+rlVADSs8T0ynVECLSScLEHJNQPAZiyJCSzNA61ndtgy+WkCP1rf+9udXQKy5G5kMB1RAH9x+pcAsT0Cu5QOl+VVPQBTI2fqm12JASsX36ognZkCSxWaMXz5lQPMjt+lt8UhAj2DAFGyoY0CsTv9kg/hXQOxkDWhEW2JAZvW2CiYmWED9FZnh1VVkQHGl429ByGNAHlfJd3u0VUDaBi5aRMxJQEQUWCBSMktAyt+9k3Y8MUAfFPIbkeJMQODR9RmHjlFA+uS1ql5AQEC9ov7YwxtZQPZUkDNUUVxAo2o2BYVXZkBxLdd8LP1UQMfRizxZ6UxAIjhMTLuwV0Bx2umk0aRRQB41aQBfoFNAueHwZRpOSkCUppS6Ip9kQDJ6Gqorhl9AzkEp/vnOSkBBuRhI0OlkQCaIeMc6Z2ZA4QxiIGOCSkCHkSZRUpVjQHknjgjkMWNATDGWvxkkU0Be0MuqkZVjQCNYAwlheGVAd0Jezl+aWEA=",
          "dtype": "f8"
         },
         "y": {
          "bdata": "yVLMdKkwWcD19zuwFmc4wPa+ERIf8lVApe86Z57wV0DnInf3/WBDQD1DCgTibzdAKGgjTtd9JkAlHMEzfphWwIZi0oClClNAjVJPLC6fHEBnO99SwalRwCN+AIao1lXAlwDfBFbVMkA2OfP0JX5KQPUon552pjRAJSlLvDSaHUAbi5yP4LJWQJtf6A0Ap0jA9bcvcKe+VEBzjKaui3hWwMFIidYEm09AmAjVLEAHSsBaymUJ8OlTQPsTd5KnOyFAoH+C0SOcI0DbGC3QT3cqwHZ+dPW4QyxA0vEGXap0RcBcnhpBDAwyQHgWWGJIBuq/vOJUW4CxV0DMG7QvxQ05QOMJccDKF1ZAiSxffuFVQUAb/ldTKWs4QCBOI5gnkUhAUwdihhVlL0BSHGr95IxEwHl95I0Dni7AW7dLiV6vVED/3AXOyvdLQK3uIdSj01ZAH+G9IYv5EsB3XuutRio7QDEiJt35aiZAQvKH7gxSUEAzWbVFbS1QQGZJ0KNsyVZApgMXiaL2HsCSm+TkRxEnwNKfhnexd1FAeFiLoctUTcAWLwAWn6lYwIRqmeZr/1ZAdkHyTfIlSUDOEdL2glhAQEV8LyxJQVBA3A4ykKRlU8BI0ajzch1FQH1cE8vLSlBAJIGXs7dxM8BPv482TIU5QFJyrlczKTDA9y5uZXEpWMC30V5jsgM1wMA9GON08j5ADwip78RT6b8fY1KO53BYwKsj7o5Ts1LAdW7iPbxaIEAM4jQg+f8swESXj8ztf05AY0ecARR5VECkPhcJl08sQJuug+V2VD/ABGgTda6yUkCVq76hNPYkQGi9jX4Y2FPAx5zGVDyOVkCBEbRngPpFQK2waCJJ2VVAqlNucd+HU8BIgsjT3WtKwPfaK+LqNjJAVV44G74QQEBCy+bHezQ4QJSgOTp7C1dAXgt5LyhwM0B2fyEEOWklQIdxCdev2C9AkAunQmklU0CVTvhXF55PQMHkb1vPxjPAgneuUihtWMAXkEmLIohXwPyg59jeNEtAqs+f777KVMCgqHOGiXU/QHhiqz9KfVLAqt64WpzeO0ABhgNSTHlQwPF36NlWXzPAxFZ9HxhuIEAfv14/hD5CQEpLMK0vWlVA82d/kxCuV0B+tYWAy5BTQEMcipaGx01As940Ht33UkCFZII7CPQ2QPVuFzLdEC1Az1DqmSlnV8CAMUL7i2k+QDzIrcW4ZlRAl/wS6wjfIUAnBX0HA0wlQBBDw3vJrTZAUB/p722GSUDDISoIacg+wGKmAlW8zTzAxOJrwB1TVEDmhNaNEzVXwDZUlHK+llfALtlsUCAJVUBBFB4mNWQ1wH7NYQD/sUvAULdh4PKlQECpicyfG2U1wNUq3rvqvVTAMbxhh0fgO0A=",
          "dtype": "f8"
         },
         "z": {
          "bdata": "K1WthLuOQsAss6/JjC42QDrL8s4OHUlAFT/u5qFbQEBp7/EY3GYAwGttIz+SKhlAys0qWJDDI8BDdFkVKzYuwF72BbsWtjxAprb68VxEwT9U/2el8PI5wJEUiyF25i3AzCFck058FcCJX6p9nXc6QNpd58BdGzlA27E65paxGcDegpYPu85FQKCTsPon3Q3A1x4RLYsaPkCfgbNKZYpAwBBRbAhwuilApg9lN+Cc5j8YSro7slZGQB9vEDy5bSZAEhopEgBqGcBxnFoB08EsQF0YhGLdNRjA3ftqazWmMMD0DAKjkMgfwMiNq3HtACXApFlAgQEcQEDlyUQ1Hc4XwGSRF5eod0hAbdR+vdgiJkDNq7XdTgcXQAPU8sJdXC9ALaEFcRmLGcDOYZo70AowwINqqsagVjDAivPjsW7GOEAyXCtbk9ogQI6QE1BIzj9AUA/h7TTVDsCzYVaOqGYVwASPDnpdlSPATjAqddDCM0Cau07aip85QJH3rkjuxT9AACXCjCTIHEBJShNWR+gxQHKxMU6tiDdAARP9ZmCxEcBaauBQkSpCwAczoWWmfkRA09T8NhwIO0CHBUtpqRf6vwgaQk8/9DlAFb66F3CFPMBQH/YiS1EtQHIYMbEFCThAmmH4wvaANkCOwyIiA0YXwKfaTdS8cTNAgCSAKHxkPMD45jUXlNAzQN6Gl369ngFA9rjXMMU7BMCmY8gAuMI+wMO5quq3zT7AnTOd8KJysD/tXtgiu38cwNyW7q/tsTNAQwX7JSsaR0BlKjYIP0EGQBWgk/AY8yjAud/DPmrtM0DG62/eewQgwBTR3+k5Lz3ARq9En4qVP0A0uIUgJmwaQMSCbGybAT9AwX0uoze4PMAuZRwS5HY5wIaxFXFaYeS/TPQrtSH0JEBTNGX98swKwP7StEVAiD5AcVofAbh6HkDFrlJkD6P3P17y0S/EaQ3ANbdm6V98PUBoTrg16BMyQKVQpKFbBTJAptJVfe6iPsD4hGhIDQw3wDABrGcS/h1AHnfdgvj0K8ASR9/RpmcjQPEEUxXnhSzAfG1qpfCkH0Cu4Ab6Akb0v3KrYzkogjZAY2J73uatA8DTDmKBuLoGQNioU7hA6kZAo8Q0yHIKQECIUFHJwiM9QFZXAnyX1TVAic+99TGWNEBa9+ZVWJkWQI+C5I6NfyJAkJ1lHmM7QcB036iIGPMDQL68spBmZENA39dF/IHb6T8C7tSZndYgwPQKQN7ZB+6/vl5kXdPJFUBo/ZUDKjoxQLxbomf01ifAChxLP/6nRUC17jLMb0s0wAm0liGuXkHA+ynAlSgsR0BWMiaQABQ0QCOBBtUpuDTAUq+kxt2L7T+9rIKToRQ0QFCxCtKC5T7A7i67XSWlIkA=",
          "dtype": "f8"
         }
        }
       ],
       "layout": {
        "legend": {
         "title": {
          "text": "color"
         },
         "tracegroupgap": 0
        },
        "margin": {
         "t": 60
        },
        "scene": {
         "domain": {
          "x": [
           0,
           1
          ],
          "y": [
           0,
           1
          ]
         },
         "xaxis": {
          "title": {
           "text": "pc1"
          }
         },
         "yaxis": {
          "title": {
           "text": "pc2"
          }
         },
         "zaxis": {
          "title": {
           "text": "pc3"
          }
         }
        },
        "template": {
         "data": {
          "bar": [
           {
            "error_x": {
             "color": "#2a3f5f"
            },
            "error_y": {
             "color": "#2a3f5f"
            },
            "marker": {
             "line": {
              "color": "#E5ECF6",
              "width": 0.5
             },
             "pattern": {
              "fillmode": "overlay",
              "size": 10,
              "solidity": 0.2
             }
            },
            "type": "bar"
           }
          ],
          "barpolar": [
           {
            "marker": {
             "line": {
              "color": "#E5ECF6",
              "width": 0.5
             },
             "pattern": {
              "fillmode": "overlay",
              "size": 10,
              "solidity": 0.2
             }
            },
            "type": "barpolar"
           }
          ],
          "carpet": [
           {
            "aaxis": {
             "endlinecolor": "#2a3f5f",
             "gridcolor": "white",
             "linecolor": "white",
             "minorgridcolor": "white",
             "startlinecolor": "#2a3f5f"
            },
            "baxis": {
             "endlinecolor": "#2a3f5f",
             "gridcolor": "white",
             "linecolor": "white",
             "minorgridcolor": "white",
             "startlinecolor": "#2a3f5f"
            },
            "type": "carpet"
           }
          ],
          "choropleth": [
           {
            "colorbar": {
             "outlinewidth": 0,
             "ticks": ""
            },
            "type": "choropleth"
           }
          ],
          "contour": [
           {
            "colorbar": {
             "outlinewidth": 0,
             "ticks": ""
            },
            "colorscale": [
             [
              0,
              "#0d0887"
             ],
             [
              0.1111111111111111,
              "#46039f"
             ],
             [
              0.2222222222222222,
              "#7201a8"
             ],
             [
              0.3333333333333333,
              "#9c179e"
             ],
             [
              0.4444444444444444,
              "#bd3786"
             ],
             [
              0.5555555555555556,
              "#d8576b"
             ],
             [
              0.6666666666666666,
              "#ed7953"
             ],
             [
              0.7777777777777778,
              "#fb9f3a"
             ],
             [
              0.8888888888888888,
              "#fdca26"
             ],
             [
              1,
              "#f0f921"
             ]
            ],
            "type": "contour"
           }
          ],
          "contourcarpet": [
           {
            "colorbar": {
             "outlinewidth": 0,
             "ticks": ""
            },
            "type": "contourcarpet"
           }
          ],
          "heatmap": [
           {
            "colorbar": {
             "outlinewidth": 0,
             "ticks": ""
            },
            "colorscale": [
             [
              0,
              "#0d0887"
             ],
             [
              0.1111111111111111,
              "#46039f"
             ],
             [
              0.2222222222222222,
              "#7201a8"
             ],
             [
              0.3333333333333333,
              "#9c179e"
             ],
             [
              0.4444444444444444,
              "#bd3786"
             ],
             [
              0.5555555555555556,
              "#d8576b"
             ],
             [
              0.6666666666666666,
              "#ed7953"
             ],
             [
              0.7777777777777778,
              "#fb9f3a"
             ],
             [
              0.8888888888888888,
              "#fdca26"
             ],
             [
              1,
              "#f0f921"
             ]
            ],
            "type": "heatmap"
           }
          ],
          "histogram": [
           {
            "marker": {
             "pattern": {
              "fillmode": "overlay",
              "size": 10,
              "solidity": 0.2
             }
            },
            "type": "histogram"
           }
          ],
          "histogram2d": [
           {
            "colorbar": {
             "outlinewidth": 0,
             "ticks": ""
            },
            "colorscale": [
             [
              0,
              "#0d0887"
             ],
             [
              0.1111111111111111,
              "#46039f"
             ],
             [
              0.2222222222222222,
              "#7201a8"
             ],
             [
              0.3333333333333333,
              "#9c179e"
             ],
             [
              0.4444444444444444,
              "#bd3786"
             ],
             [
              0.5555555555555556,
              "#d8576b"
             ],
             [
              0.6666666666666666,
              "#ed7953"
             ],
             [
              0.7777777777777778,
              "#fb9f3a"
             ],
             [
              0.8888888888888888,
              "#fdca26"
             ],
             [
              1,
              "#f0f921"
             ]
            ],
            "type": "histogram2d"
           }
          ],
          "histogram2dcontour": [
           {
            "colorbar": {
             "outlinewidth": 0,
             "ticks": ""
            },
            "colorscale": [
             [
              0,
              "#0d0887"
             ],
             [
              0.1111111111111111,
              "#46039f"
             ],
             [
              0.2222222222222222,
              "#7201a8"
             ],
             [
              0.3333333333333333,
              "#9c179e"
             ],
             [
              0.4444444444444444,
              "#bd3786"
             ],
             [
              0.5555555555555556,
              "#d8576b"
             ],
             [
              0.6666666666666666,
              "#ed7953"
             ],
             [
              0.7777777777777778,
              "#fb9f3a"
             ],
             [
              0.8888888888888888,
              "#fdca26"
             ],
             [
              1,
              "#f0f921"
             ]
            ],
            "type": "histogram2dcontour"
           }
          ],
          "mesh3d": [
           {
            "colorbar": {
             "outlinewidth": 0,
             "ticks": ""
            },
            "type": "mesh3d"
           }
          ],
          "parcoords": [
           {
            "line": {
             "colorbar": {
              "outlinewidth": 0,
              "ticks": ""
             }
            },
            "type": "parcoords"
           }
          ],
          "pie": [
           {
            "automargin": true,
            "type": "pie"
           }
          ],
          "scatter": [
           {
            "fillpattern": {
             "fillmode": "overlay",
             "size": 10,
             "solidity": 0.2
            },
            "type": "scatter"
           }
          ],
          "scatter3d": [
           {
            "line": {
             "colorbar": {
              "outlinewidth": 0,
              "ticks": ""
             }
            },
            "marker": {
             "colorbar": {
              "outlinewidth": 0,
              "ticks": ""
             }
            },
            "type": "scatter3d"
           }
          ],
          "scattercarpet": [
           {
            "marker": {
             "colorbar": {
              "outlinewidth": 0,
              "ticks": ""
             }
            },
            "type": "scattercarpet"
           }
          ],
          "scattergeo": [
           {
            "marker": {
             "colorbar": {
              "outlinewidth": 0,
              "ticks": ""
             }
            },
            "type": "scattergeo"
           }
          ],
          "scattergl": [
           {
            "marker": {
             "colorbar": {
              "outlinewidth": 0,
              "ticks": ""
             }
            },
            "type": "scattergl"
           }
          ],
          "scattermap": [
           {
            "marker": {
             "colorbar": {
              "outlinewidth": 0,
              "ticks": ""
             }
            },
            "type": "scattermap"
           }
          ],
          "scattermapbox": [
           {
            "marker": {
             "colorbar": {
              "outlinewidth": 0,
              "ticks": ""
             }
            },
            "type": "scattermapbox"
           }
          ],
          "scatterpolar": [
           {
            "marker": {
             "colorbar": {
              "outlinewidth": 0,
              "ticks": ""
             }
            },
            "type": "scatterpolar"
           }
          ],
          "scatterpolargl": [
           {
            "marker": {
             "colorbar": {
              "outlinewidth": 0,
              "ticks": ""
             }
            },
            "type": "scatterpolargl"
           }
          ],
          "scatterternary": [
           {
            "marker": {
             "colorbar": {
              "outlinewidth": 0,
              "ticks": ""
             }
            },
            "type": "scatterternary"
           }
          ],
          "surface": [
           {
            "colorbar": {
             "outlinewidth": 0,
             "ticks": ""
            },
            "colorscale": [
             [
              0,
              "#0d0887"
             ],
             [
              0.1111111111111111,
              "#46039f"
             ],
             [
              0.2222222222222222,
              "#7201a8"
             ],
             [
              0.3333333333333333,
              "#9c179e"
             ],
             [
              0.4444444444444444,
              "#bd3786"
             ],
             [
              0.5555555555555556,
              "#d8576b"
             ],
             [
              0.6666666666666666,
              "#ed7953"
             ],
             [
              0.7777777777777778,
              "#fb9f3a"
             ],
             [
              0.8888888888888888,
              "#fdca26"
             ],
             [
              1,
              "#f0f921"
             ]
            ],
            "type": "surface"
           }
          ],
          "table": [
           {
            "cells": {
             "fill": {
              "color": "#EBF0F8"
             },
             "line": {
              "color": "white"
             }
            },
            "header": {
             "fill": {
              "color": "#C8D4E3"
             },
             "line": {
              "color": "white"
             }
            },
            "type": "table"
           }
          ]
         },
         "layout": {
          "annotationdefaults": {
           "arrowcolor": "#2a3f5f",
           "arrowhead": 0,
           "arrowwidth": 1
          },
          "autotypenumbers": "strict",
          "coloraxis": {
           "colorbar": {
            "outlinewidth": 0,
            "ticks": ""
           }
          },
          "colorscale": {
           "diverging": [
            [
             0,
             "#8e0152"
            ],
            [
             0.1,
             "#c51b7d"
            ],
            [
             0.2,
             "#de77ae"
            ],
            [
             0.3,
             "#f1b6da"
            ],
            [
             0.4,
             "#fde0ef"
            ],
            [
             0.5,
             "#f7f7f7"
            ],
            [
             0.6,
             "#e6f5d0"
            ],
            [
             0.7,
             "#b8e186"
            ],
            [
             0.8,
             "#7fbc41"
            ],
            [
             0.9,
             "#4d9221"
            ],
            [
             1,
             "#276419"
            ]
           ],
           "sequential": [
            [
             0,
             "#0d0887"
            ],
            [
             0.1111111111111111,
             "#46039f"
            ],
            [
             0.2222222222222222,
             "#7201a8"
            ],
            [
             0.3333333333333333,
             "#9c179e"
            ],
            [
             0.4444444444444444,
             "#bd3786"
            ],
            [
             0.5555555555555556,
             "#d8576b"
            ],
            [
             0.6666666666666666,
             "#ed7953"
            ],
            [
             0.7777777777777778,
             "#fb9f3a"
            ],
            [
             0.8888888888888888,
             "#fdca26"
            ],
            [
             1,
             "#f0f921"
            ]
           ],
           "sequentialminus": [
            [
             0,
             "#0d0887"
            ],
            [
             0.1111111111111111,
             "#46039f"
            ],
            [
             0.2222222222222222,
             "#7201a8"
            ],
            [
             0.3333333333333333,
             "#9c179e"
            ],
            [
             0.4444444444444444,
             "#bd3786"
            ],
            [
             0.5555555555555556,
             "#d8576b"
            ],
            [
             0.6666666666666666,
             "#ed7953"
            ],
            [
             0.7777777777777778,
             "#fb9f3a"
            ],
            [
             0.8888888888888888,
             "#fdca26"
            ],
            [
             1,
             "#f0f921"
            ]
           ]
          },
          "colorway": [
           "#636efa",
           "#EF553B",
           "#00cc96",
           "#ab63fa",
           "#FFA15A",
           "#19d3f3",
           "#FF6692",
           "#B6E880",
           "#FF97FF",
           "#FECB52"
          ],
          "font": {
           "color": "#2a3f5f"
          },
          "geo": {
           "bgcolor": "white",
           "lakecolor": "white",
           "landcolor": "#E5ECF6",
           "showlakes": true,
           "showland": true,
           "subunitcolor": "white"
          },
          "hoverlabel": {
           "align": "left"
          },
          "hovermode": "closest",
          "mapbox": {
           "style": "light"
          },
          "paper_bgcolor": "white",
          "plot_bgcolor": "#E5ECF6",
          "polar": {
           "angularaxis": {
            "gridcolor": "white",
            "linecolor": "white",
            "ticks": ""
           },
           "bgcolor": "#E5ECF6",
           "radialaxis": {
            "gridcolor": "white",
            "linecolor": "white",
            "ticks": ""
           }
          },
          "scene": {
           "xaxis": {
            "backgroundcolor": "#E5ECF6",
            "gridcolor": "white",
            "gridwidth": 2,
            "linecolor": "white",
            "showbackground": true,
            "ticks": "",
            "zerolinecolor": "white"
           },
           "yaxis": {
            "backgroundcolor": "#E5ECF6",
            "gridcolor": "white",
            "gridwidth": 2,
            "linecolor": "white",
            "showbackground": true,
            "ticks": "",
            "zerolinecolor": "white"
           },
           "zaxis": {
            "backgroundcolor": "#E5ECF6",
            "gridcolor": "white",
            "gridwidth": 2,
            "linecolor": "white",
            "showbackground": true,
            "ticks": "",
            "zerolinecolor": "white"
           }
          },
          "shapedefaults": {
           "line": {
            "color": "#2a3f5f"
           }
          },
          "ternary": {
           "aaxis": {
            "gridcolor": "white",
            "linecolor": "white",
            "ticks": ""
           },
           "baxis": {
            "gridcolor": "white",
            "linecolor": "white",
            "ticks": ""
           },
           "bgcolor": "#E5ECF6",
           "caxis": {
            "gridcolor": "white",
            "linecolor": "white",
            "ticks": ""
           }
          },
          "title": {
           "x": 0.05
          },
          "xaxis": {
           "automargin": true,
           "gridcolor": "white",
           "linecolor": "white",
           "ticks": "",
           "title": {
            "standoff": 15
           },
           "zerolinecolor": "white",
           "zerolinewidth": 2
          },
          "yaxis": {
           "automargin": true,
           "gridcolor": "white",
           "linecolor": "white",
           "ticks": "",
           "title": {
            "standoff": 15
           },
           "zerolinecolor": "white",
           "zerolinewidth": 2
          }
         }
        }
       }
      }
     },
     "metadata": {},
     "output_type": "display_data"
    }
   ],
   "source": [
    "import plotly.express as px \n",
    "\n",
    "px.scatter_3d(\n",
    "    pd.DataFrame(new_data, columns = ['pc1', 'pc2', 'pc3']),\n",
    "    color = labels,\n",
    "    labels = labels,  \n",
    "    x = 'pc1',\n",
    "    y = 'pc2',\n",
    "    z = 'pc3',\n",
    "    opacity = 0.8\n",
    ")"
   ]
  },
  {
   "cell_type": "code",
   "execution_count": null,
   "id": "f3b9581c",
   "metadata": {},
   "outputs": [],
   "source": []
  }
 ],
 "metadata": {
  "kernelspec": {
   "display_name": "base",
   "language": "python",
   "name": "python3"
  },
  "language_info": {
   "codemirror_mode": {
    "name": "ipython",
    "version": 3
   },
   "file_extension": ".py",
   "mimetype": "text/x-python",
   "name": "python",
   "nbconvert_exporter": "python",
   "pygments_lexer": "ipython3",
   "version": "3.13.5"
  }
 },
 "nbformat": 4,
 "nbformat_minor": 5
}
