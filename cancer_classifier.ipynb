{
 "cells": [
  {
   "cell_type": "code",
   "execution_count": 101,
   "id": "78d0f9a9",
   "metadata": {},
   "outputs": [],
   "source": [
    "import pandas as pd \n",
    "import seaborn as sns \n",
    "import numpy as np \n",
    "import matplotlib.pyplot as plt \n",
    "from imblearn.over_sampling import SMOTE\n",
    "import utils.data_utils as du"
   ]
  },
  {
   "cell_type": "code",
   "execution_count": 102,
   "id": "ff46ee1e",
   "metadata": {},
   "outputs": [],
   "source": [
    "data = pd.read_csv(\"./raw_data/GSE45827_series_matrix.txt\", sep = \"\\t\", comment = \"!\")"
   ]
  },
  {
   "cell_type": "code",
   "execution_count": 103,
   "id": "572c910e",
   "metadata": {},
   "outputs": [],
   "source": [
    "data = data.dropna(axis = 0) "
   ]
  },
  {
   "cell_type": "code",
   "execution_count": 104,
   "id": "10445369",
   "metadata": {},
   "outputs": [
    {
     "data": {
      "text/html": [
       "<div>\n",
       "<style scoped>\n",
       "    .dataframe tbody tr th:only-of-type {\n",
       "        vertical-align: middle;\n",
       "    }\n",
       "\n",
       "    .dataframe tbody tr th {\n",
       "        vertical-align: top;\n",
       "    }\n",
       "\n",
       "    .dataframe thead th {\n",
       "        text-align: right;\n",
       "    }\n",
       "</style>\n",
       "<table border=\"1\" class=\"dataframe\">\n",
       "  <thead>\n",
       "    <tr style=\"text-align: right;\">\n",
       "      <th></th>\n",
       "      <th>ID</th>\n",
       "      <th>Gene Symbol</th>\n",
       "    </tr>\n",
       "  </thead>\n",
       "  <tbody>\n",
       "    <tr>\n",
       "      <th>0</th>\n",
       "      <td>1007_s_at</td>\n",
       "      <td>DDR1 /// MIR4640</td>\n",
       "    </tr>\n",
       "    <tr>\n",
       "      <th>1</th>\n",
       "      <td>1053_at</td>\n",
       "      <td>RFC2</td>\n",
       "    </tr>\n",
       "    <tr>\n",
       "      <th>2</th>\n",
       "      <td>117_at</td>\n",
       "      <td>HSPA6</td>\n",
       "    </tr>\n",
       "    <tr>\n",
       "      <th>3</th>\n",
       "      <td>121_at</td>\n",
       "      <td>PAX8</td>\n",
       "    </tr>\n",
       "    <tr>\n",
       "      <th>4</th>\n",
       "      <td>1255_g_at</td>\n",
       "      <td>GUCA1A</td>\n",
       "    </tr>\n",
       "    <tr>\n",
       "      <th>...</th>\n",
       "      <td>...</td>\n",
       "      <td>...</td>\n",
       "    </tr>\n",
       "    <tr>\n",
       "      <th>54670</th>\n",
       "      <td>AFFX-ThrX-5_at</td>\n",
       "      <td>NaN</td>\n",
       "    </tr>\n",
       "    <tr>\n",
       "      <th>54671</th>\n",
       "      <td>AFFX-ThrX-M_at</td>\n",
       "      <td>NaN</td>\n",
       "    </tr>\n",
       "    <tr>\n",
       "      <th>54672</th>\n",
       "      <td>AFFX-TrpnX-3_at</td>\n",
       "      <td>NaN</td>\n",
       "    </tr>\n",
       "    <tr>\n",
       "      <th>54673</th>\n",
       "      <td>AFFX-TrpnX-5_at</td>\n",
       "      <td>NaN</td>\n",
       "    </tr>\n",
       "    <tr>\n",
       "      <th>54674</th>\n",
       "      <td>AFFX-TrpnX-M_at</td>\n",
       "      <td>NaN</td>\n",
       "    </tr>\n",
       "  </tbody>\n",
       "</table>\n",
       "<p>54675 rows × 2 columns</p>\n",
       "</div>"
      ],
      "text/plain": [
       "                    ID       Gene Symbol\n",
       "0            1007_s_at  DDR1 /// MIR4640\n",
       "1              1053_at              RFC2\n",
       "2               117_at             HSPA6\n",
       "3               121_at              PAX8\n",
       "4            1255_g_at            GUCA1A\n",
       "...                ...               ...\n",
       "54670   AFFX-ThrX-5_at               NaN\n",
       "54671   AFFX-ThrX-M_at               NaN\n",
       "54672  AFFX-TrpnX-3_at               NaN\n",
       "54673  AFFX-TrpnX-5_at               NaN\n",
       "54674  AFFX-TrpnX-M_at               NaN\n",
       "\n",
       "[54675 rows x 2 columns]"
      ]
     },
     "execution_count": 104,
     "metadata": {},
     "output_type": "execute_result"
    }
   ],
   "source": [
    "soft_map = pd.read_csv(\"./raw_data/GPL570-55999.txt\", sep = \"\\t\", comment = \"#\", dtype = object)\n",
    "soft_map = soft_map.loc[:, ['ID', 'Gene Symbol']]\n",
    "soft_map"
   ]
  },
  {
   "cell_type": "code",
   "execution_count": 105,
   "id": "569e57b7",
   "metadata": {},
   "outputs": [
    {
     "data": {
      "text/html": [
       "<div>\n",
       "<style scoped>\n",
       "    .dataframe tbody tr th:only-of-type {\n",
       "        vertical-align: middle;\n",
       "    }\n",
       "\n",
       "    .dataframe tbody tr th {\n",
       "        vertical-align: top;\n",
       "    }\n",
       "\n",
       "    .dataframe thead th {\n",
       "        text-align: right;\n",
       "    }\n",
       "</style>\n",
       "<table border=\"1\" class=\"dataframe\">\n",
       "  <thead>\n",
       "    <tr style=\"text-align: right;\">\n",
       "      <th></th>\n",
       "      <th>Gene Symbol</th>\n",
       "    </tr>\n",
       "    <tr>\n",
       "      <th>ID</th>\n",
       "      <th></th>\n",
       "    </tr>\n",
       "  </thead>\n",
       "  <tbody>\n",
       "    <tr>\n",
       "      <th>1007_s_at</th>\n",
       "      <td>DDR1 /// MIR4640</td>\n",
       "    </tr>\n",
       "    <tr>\n",
       "      <th>1053_at</th>\n",
       "      <td>RFC2</td>\n",
       "    </tr>\n",
       "    <tr>\n",
       "      <th>117_at</th>\n",
       "      <td>HSPA6</td>\n",
       "    </tr>\n",
       "    <tr>\n",
       "      <th>1294_at</th>\n",
       "      <td>MIR5193 /// UBA7</td>\n",
       "    </tr>\n",
       "    <tr>\n",
       "      <th>1316_at</th>\n",
       "      <td>THRA</td>\n",
       "    </tr>\n",
       "    <tr>\n",
       "      <th>...</th>\n",
       "      <td>...</td>\n",
       "    </tr>\n",
       "    <tr>\n",
       "      <th>91684_g_at</th>\n",
       "      <td>EXOSC4</td>\n",
       "    </tr>\n",
       "    <tr>\n",
       "      <th>91703_at</th>\n",
       "      <td>EHBP1L1</td>\n",
       "    </tr>\n",
       "    <tr>\n",
       "      <th>91816_f_at</th>\n",
       "      <td>MEX3D</td>\n",
       "    </tr>\n",
       "    <tr>\n",
       "      <th>91826_at</th>\n",
       "      <td>EPS8L1</td>\n",
       "    </tr>\n",
       "    <tr>\n",
       "      <th>91952_at</th>\n",
       "      <td>DCAF15</td>\n",
       "    </tr>\n",
       "  </tbody>\n",
       "</table>\n",
       "<p>29873 rows × 1 columns</p>\n",
       "</div>"
      ],
      "text/plain": [
       "                 Gene Symbol\n",
       "ID                          \n",
       "1007_s_at   DDR1 /// MIR4640\n",
       "1053_at                 RFC2\n",
       "117_at                 HSPA6\n",
       "1294_at     MIR5193 /// UBA7\n",
       "1316_at                 THRA\n",
       "...                      ...\n",
       "91684_g_at            EXOSC4\n",
       "91703_at             EHBP1L1\n",
       "91816_f_at             MEX3D\n",
       "91826_at              EPS8L1\n",
       "91952_at              DCAF15\n",
       "\n",
       "[29873 rows x 1 columns]"
      ]
     },
     "execution_count": 105,
     "metadata": {},
     "output_type": "execute_result"
    }
   ],
   "source": [
    "soft_map.set_index(\"ID\", inplace = True) \n",
    "\n",
    "soft_map = soft_map.loc[data['ID_REF']]\n",
    "soft_map"
   ]
  },
  {
   "cell_type": "code",
   "execution_count": 106,
   "id": "7968d2d0",
   "metadata": {},
   "outputs": [],
   "source": [
    "soft_map.dropna(axis = 0, inplace = True)\n",
    "soft_map['Gene Symbol'] = list(map(lambda x: x.split(\"///\")[0], soft_map['Gene Symbol']))"
   ]
  },
  {
   "cell_type": "code",
   "execution_count": 107,
   "id": "9e4ad789",
   "metadata": {},
   "outputs": [],
   "source": [
    "data.set_index(\"ID_REF\", inplace= True) \n",
    "\n",
    "data.index = data.index.map(dict(zip(soft_map.index, soft_map['Gene Symbol'])))"
   ]
  },
  {
   "cell_type": "code",
   "execution_count": 108,
   "id": "3e5a01d4",
   "metadata": {},
   "outputs": [
    {
     "data": {
      "text/plain": [
       "np.int64(0)"
      ]
     },
     "execution_count": 108,
     "metadata": {},
     "output_type": "execute_result"
    }
   ],
   "source": [
    "data = data[data.index.notnull()]\n",
    "data.index.isnull().sum()"
   ]
  },
  {
   "cell_type": "code",
   "execution_count": 109,
   "id": "e29d012b",
   "metadata": {},
   "outputs": [],
   "source": [
    "metadata = du.get_metadata(\"./raw_data/GSE45827_series_matrix.txt\")\n",
    "\n",
    "diagnosis_str = du.filter_characteristic(metadata, \"diagnosis\")\n",
    "diagnosis_str = diagnosis_str[0]"
   ]
  },
  {
   "cell_type": "code",
   "execution_count": 110,
   "id": "c6612156",
   "metadata": {},
   "outputs": [],
   "source": [
    "data = data.T\n",
    "data['diagnosis'] = list(map(lambda x: x.strip(\"\\\"\"), diagnosis_str.split(\"\\t\")[1:]))"
   ]
  },
  {
   "cell_type": "code",
   "execution_count": 111,
   "id": "9abecf90",
   "metadata": {},
   "outputs": [],
   "source": [
    "cell_line_list = du.filter_diagnosis_string(diagnosis_str, keyword = \"cell line\")"
   ]
  },
  {
   "cell_type": "code",
   "execution_count": 112,
   "id": "1abb3e5e",
   "metadata": {},
   "outputs": [],
   "source": [
    "data = data[~data['diagnosis'].isin(cell_line_list)]"
   ]
  },
  {
   "cell_type": "code",
   "execution_count": 113,
   "id": "8232cbdd",
   "metadata": {},
   "outputs": [],
   "source": [
    "inputs = data.drop(\"diagnosis\", axis = 1) \n",
    "labels = data['diagnosis']"
   ]
  },
  {
   "cell_type": "code",
   "execution_count": 114,
   "id": "9f3e6a03",
   "metadata": {},
   "outputs": [],
   "source": [
    "from sklearn.preprocessing import StandardScaler \n",
    "\n",
    "st_scalar = StandardScaler() \n",
    "\n",
    "inputs = st_scalar.fit_transform(inputs) "
   ]
  },
  {
   "cell_type": "code",
   "execution_count": 115,
   "id": "58918985",
   "metadata": {},
   "outputs": [],
   "source": [
    "smote_augmentor = SMOTE(sampling_strategy=\"minority\", random_state=1)\n",
    "\n",
    "inputs, labels = smote_augmentor.fit_resample(inputs, labels) "
   ]
  },
  {
   "cell_type": "code",
   "execution_count": 116,
   "id": "0a9c92ca",
   "metadata": {},
   "outputs": [
    {
     "data": {
      "text/plain": [
       "<matplotlib.legend.Legend at 0x7f0408556450>"
      ]
     },
     "execution_count": 116,
     "metadata": {},
     "output_type": "execute_result"
    },
    {
     "data": {
      "image/png": "[encoded data removed]",
      "text/plain": [
       "<Figure size 3000x1000 with 1 Axes>"
      ]
     },
     "metadata": {},
     "output_type": "display_data"
    }
   ],
   "source": [
    "cov_mat = np.cov(inputs)\n",
    "eigen_vals, eigen_vecs = np.linalg.eig(cov_mat)\n",
    "\n",
    "exp_var = []\n",
    "\n",
    "# Sort the eigenvalues in descending order\n",
    "eigen_vals = np.sort(eigen_vals)[::-1]\n",
    "\n",
    "for i in eigen_vals:\n",
    "  var = (i / np.sum(eigen_vals)) * 100\n",
    "  exp_var.append(var)\n",
    "\n",
    "\n",
    "figure = plt.figure(figsize = (30, 10))\n",
    "\n",
    "bar = plt.bar(range(1, len(exp_var)+1), list(map(np.real, exp_var)), \n",
    "        label='Individual explained variance')\n",
    "\n",
    "#Adding data labels to the top of bars \n",
    "for i, bar in enumerate(bar):\n",
    "    plt.text(bar.get_x() + bar.get_width() / 2, bar.get_height(), f'{round(exp_var[i].real, 1)}%', \n",
    "             ha='center', va='bottom')\n",
    "\n",
    "plt.ylabel('Percentage of variance explained (%)')\n",
    "plt.xlabel('Principal component index')\n",
    "plt.xticks(ticks=list(range(1, len(exp_var)+1)))\n",
    "plt.legend(loc='best')\n"
   ]
  },
  {
   "cell_type": "code",
   "execution_count": 117,
   "id": "248967e4",
   "metadata": {},
   "outputs": [],
   "source": [
    "from sklearn.decomposition import PCA \n",
    "\n",
    "pca = PCA(n_components=3) \n",
    "\n",
    "new_data = pca.fit_transform(inputs) "
   ]
  },
  {
   "cell_type": "code",
   "execution_count": 118,
   "id": "f3b9581c",
   "metadata": {},
   "outputs": [],
   "source": [
    "label_keys = list(labels.unique() )\n",
    "\n",
    "y_labels = np.array( [1 if i == label_keys[0] else 0 for i in labels])\n",
    "\n",
    "inputs = new_data"
   ]
  },
  {
   "cell_type": "code",
   "execution_count": 119,
   "id": "254ef255",
   "metadata": {},
   "outputs": [],
   "source": [
    "from sklearn.model_selection import train_test_split \n",
    "\n",
    "x_train, x_test, y_train, y_test = train_test_split(inputs, y_labels, test_size=0.3) "
   ]
  },
  {
   "cell_type": "code",
   "execution_count": 120,
   "id": "e8048db5",
   "metadata": {},
   "outputs": [
    {
     "name": "stdout",
     "output_type": "stream",
     "text": [
      "[[33  0]\n",
      " [ 0 45]]\n"
     ]
    },
    {
     "data": {
      "text/plain": [
       "<Axes: >"
      ]
     },
     "execution_count": 120,
     "metadata": {},
     "output_type": "execute_result"
    },
    {
     "data": {
      "image/png": "[encoded data removed]",
      "text/plain": [
       "<Figure size 640x480 with 2 Axes>"
      ]
     },
     "metadata": {},
     "output_type": "display_data"
    }
   ],
   "source": [
    "from sklearn.svm import SVC \n",
    "from sklearn.metrics import confusion_matrix, classification_report \n",
    "\n",
    "classifier = SVC(kernel='linear') \n",
    "\n",
    "classifier = classifier.fit(x_train, y_train) \n",
    "\n",
    "predictions = classifier.predict(x_test) \n",
    "\n",
    "cf_matrix = confusion_matrix(y_test, predictions) \n",
    "\n",
    "print(cf_matrix)\n",
    "\n",
    "sns.heatmap(cf_matrix)"
   ]
  },
  {
   "cell_type": "code",
   "execution_count": 121,
   "id": "17a09624",
   "metadata": {},
   "outputs": [],
   "source": [
    "def make_svm_equation(classifier: SVC): \n",
    "\n",
    "    coeficients = classifier.coef_[0]\n",
    "    intercept = classifier.intercept_[0] \n",
    "\n",
    "    def make_equation(xx, yy): \n",
    "\n",
    "        z = -1 * (coeficients[0] * xx + coeficients[1] *yy + intercept)/coeficients[2]\n",
    "        return z\n",
    "\n",
    "    return make_equation "
   ]
  },
  {
   "cell_type": "code",
   "execution_count": 122,
   "id": "c2807c0f",
   "metadata": {},
   "outputs": [],
   "source": [
    "svm_equation = make_svm_equation(classifier) \n",
    "\n",
    "x_points, y_points = np.meshgrid(np.linspace(inputs[:, 0].min(), inputs[:, 0].max(), 10), \n",
    "                                 np.linspace(inputs[:, 1].min(), inputs[:, 1].max(), 10))\n",
    "\n",
    "\n",
    "z_points = svm_equation(x_points, y_points)"
   ]
  },
  {
   "cell_type": "code",
   "execution_count": 123,
   "id": "6aebb2e4",
   "metadata": {},
   "outputs": [
    {
     "data": {
      "application/vnd.plotly.v1+json": {
       "config": {
        "plotlyServerURL": "https://plot.ly"
       },
       "data": [
        {
         "hovertemplate": "color=diagnosis: Breast cancer<br>pc1=%{x}<br>pc2=%{y}<br>pc3=%{z}<extra></extra>",
         "legendgroup": "diagnosis: Breast cancer",
         "marker": {
          "color": "#636efa",
          "opacity": 0.8,
          "symbol": "circle"
         },
         "mode": "markers",
         "name": "diagnosis: Breast cancer",
         "scene": "scene",
         "showlegend": true,
         "type": "scatter3d",
         "x": {
          "bdata": "N1w47EOfYMAuQSPz4VNewF3nRLLSvVnAuZgefJAsXcA61HHIjzJfwKB3dmQoalnAK0NbvZYTXcBt34gKGQtgwERkdtkyf1jAxSmqeJHtW8ABZLB8YttewN6TzG5TDl3Ajdx6SvBLXcDhOzsI0jZbwP3EHb5CnmDAkVV3g9B1YMADFcKcqt5ZwITrYoglg1/AEfCdzz2XWsD51xd9Vv5cwPKZzc0UpmDAVJbh1VhQWsDEYcrdUG1YwAPzGhDKFFfA+vqqvw9OXcDurrsMK5xgwCX5k0N42lrAeWmqJoMZV8CBsEhYBnlTwCWoUKv3tlzAVjRbNAU3W8BxncCTtzxbwKlMb9j2ZlrAk5DnV0OGWcCIxsOQld5ewKflvYqfH1nAY4wA7iSRYcDYRcGoIYhewIMX1u6CjFvA+9l1FlEPW8B5j8eJqkJgwLRExRSlrFzASLP6nnqZXcCMSYYnmRBSwA3MnOm1vFbAi4ADa+TTWcB0oe4fuilgwDMJ/KGISFzAoR0oqXqAXMAN5kzKialawNBsMOTi1lfAjkWekuBlWsDk+ylJFVpewPPUQraq8FTA8PMZwU+DVcAu+XF5sw5awBYrt/brXVHAKMrECrWhXsA+j+x9oAZXwEffiXeXelnACKAAa0hiVMBK1ZJyYR5awAp1g5OIa1bAA021vwlNWsA1qN2sHaFYwJp5y70Tg1XAD33YDXASVsBoj+DNNCVXwKNqNEn1rFPACFQnyUmzWcCYuXtyMCBdwDzzRTfNCFfAiWa6qaWpU8DKQB/HjvNEwIg5FZtQMWHANP7bTPKsUsBUPv4A+8RVwPqeADhnGVnATkxcoQ63V8CiSjAijtBWwHQbHF+/bF7AizuPod0JVMCxd8V9JNxUwPPAtK1vUU7AHBeQC80bVsCPVNb+qENTwPnuQBmokFTARw+U5ievVsDH/Gzt8jRSwGWnNvtJHTnAU9ENsVs6UcDxHZcf9XVSwMWyrgaJS1fAS1VvVq+JV8B/vRpkV95LwL5ky0mPs1HAE0BpTXoGVcDbigWtQiZdwKnIH2x56lrA42lSz9q+VMCmQ5ou6N5TwHRnUiYk2FjAVfW15BXJVMD1WBTy1aFZwPpdvJkuNlXAxhMdPsNqX8AipAH/cb9QwKRMha9ohFnAPRRRMV0DWMAkMbZSCIRgwMn4bbTDjFrAjgBAHBQiQMDyXj922o5FwH1JTBv+uFnArptNq84RTsCX2KXKh9ZEwBeD7yFe61PAaAjySbWYW8BSIfaT3Y5VwFtnqpIGr1vAZm1cCPp3VcD+C8wVuyFDwB8iXt2u4VTAeYQaLlafTsB3ntuFY2hcwA3KYdEZa1bAm5sRZ57yV8AuIS/BERxbwIqusXsrmVjATDzMUdGAVsA=",
          "dtype": "f8"
         },
         "y": {
          "bdata": "EEDJh9E6UcC+OIMvkaFKwFRxZ5EWVynA9Zd7hKi5U8AOYgh0fmRFwF5DsAovkOg/rnUS9wcOSMANS+xj9NtDwFuWRo2XxT3ANI1zCYM2SsC5L4XqAoRAwGFmjoGvLTjAW1ALF+fBQ8AtH4Qnn3QnwEX0HAG9QDjAg9SIonN3Q8DW/Aeid2UtwLyqEC8Tik3AJB1vGsTWOcCRhMUc1+48wGQdKdUdUjvAeyDoQmHDNsDUSZpndVVDwB2iJTWr2TXApWDCDWOINsDeUBz5EtVLwFFnU4yYBDrA+N7s5uEhTsAbjCUhNjRIwFQcqS3xu07Al4Uns/uVQMCnRctf3SFFwM45jB/UE0TAPJpq1ZoIPsDkFsalegdLwNM/HQNt+y5ALLg4IolTUcABXYsAq6U4wLAt/Asb7RxA3QKK8txL+b/Mwqmk9FtBwD2fs+IZjjfA6L6zrOFbRsBoVSHtH5cbwLQiAfcxRULAqbASMQDMMcCibZtKNbtDwJOhGvI0YlPA9QOrU0b8Q8DYwygxz+w8wO8ObvRx5ihAMaOgKHbsPsDZM0DD5d5KwLOrD6nbiynA5D5FvUO5RMCXSUKUAUVMwDRSwVjoagNAdKrXuR6aSMDuSczxucdDwEnqB9F/9kbAILxloIsGQsBvzUEXe+pJwD4TI+Vse0rAs908jae7R8AUDeZEULZTwCBTxa5/7zvA11IH5g7uUMA9+vT3QV4gwMb3LKceVSXAPoBVG5pKRcAfs+cHxKw8wEKdKTmeXDlAhYTg0DUjMEDaXsWsPN42wM7xRl/aCSnA361zWwISRUCnv8bR0RAfwN4yLQyM4iVAVyLXnbKoREB0ANAbo8sgQL304fcHlSPAuxeiwclNTkB4WF0wBXUBQJE7phf9UD1AN8V91iZULkAllRMguq9LQPj2DHhF80RA3KJdo+A/MEDhsaJzCNoiQNLC+HlvRz3AiZAdh1OQRkBUl859MfBEQMdd+7kBo+E/34erwZjE/r/cyx4XfNxAQIT+WFc3rktANw7k+ea+REBUm/u+n1pBQEIDdyI2MTbAzmEbfY2lPkARctDSj1dHQO45RRgnnzBAshaFlW9M+b9Xfeq/6vsMwKsmdJc3VkZArj2cnX+sMsCT7cUkNcQVQNY9vTbI40dAa8RzjTFOREAeX2oNENkrwD82xCj/cAJA9reQnCqLQkB4jweIHUxCQArW+m0/5iRAtGoxX1bqUUDQ6vJm5FA/QIkQrUEQPkFANNfAw6umIEALyK2sQUTlP3Ologw06kVAUwmM159JAUA7+Mh0cXk3wFAAytvbBTxAbh4n2kzfNkCnkuNKD1ozwOe3IRzZYjVAZpA18n+MNkBOQNS/QW8mwLhUWalscSlAjFo9L2RZtr8=",
          "dtype": "f8"
         },
         "z": {
          "bdata": "jksS666/UkCwdpp4/wNNQJRZFpZFwzfAnOsBDxlqVEBsLjtJ3jA2wCCodIgRkSHALpZ4NWvVS0Dla0LtDUJNQEQFDYGL00pA8iBcL0nLSEDvt+gsVYVKQHogT+/XHjfAcSGLMBZo8b+vyFhW0YsBwLRZEy6gAyrAL0OSFIAeUEDBIZCi+9YzwHJ3rc+DSlBA/GFE4N2GTUCJXNWsLB8awPvDvFVWDyvA/3LMqvdTOcB3NL0oxu5NQEA7DzZHkUHA71VpZdE/KkAIhi5coodKQNB9U1bJxUpAHU856d6TVEAVjQDG+IpJQFjGpLUL5k1AhxCj4v26P0DXmNmhQQBKQKk3wwJeUDfAfiQaNRgiE0DhZwIJ5qpOQIxWVZjtvkVAFgsa6liqUEDcdkiR9/8pwCqzQxxlCjLASxmhm3Y7AsBV6ooc9pZMQFzyuX4IujlAI6LbEWMeN8DdzaGsWfkjwPEOkUrOKEVAynqIoi0cN8ClWufKFTYgQD19XJBzdFBAZFH2XNrUM8ByGGFFstQTwDf2wMG2NTdAa/Xf+NLOR0DURUureulOQDxyfxGGb0DASof4g0glUEBfz63Oit9SQIWstei3Mz9AdE0IHyq8S0DQy2DNXPJEQBgUD/ChkkxAG1GttggPRkBu1bHsRmdPQDuwdvnsmBLAknZndSDQREDj0FWksrFQQKLZ/SCpoD5AmWpZ6+3wS0A/IbyC2YYVwOsVEBCBfDvAdet5z5xzP8D81MHPZhwrwO+ZGyQJsUrANWsTJderSMDdtcGEj7JCwKof8JT4x0PAfndPnfa4RcChC8rP23MkwMFrng55XUjAGzCTxAAUSMB9rEE89T5DwHmYM3D/oznAOQUaJtypJcBkf3/7YUFGwJERi1Ox61HAChNzWCC1PsDeGWd2kP1AwJfIzxp/GkTA4x5pVIA9QsC5sZRe0qVHwIUc74ZCjkrASRtKuTooTMAnKX8Q+QxMwHKR/ZPiAlDAOBUQIH6nQcC0ApLqijxHwOD/XDct7SvAGeG5T9tkSsBPFy0/zIBPwMXT5QBErELACgb35Q5oS8CIGjll26FCwAUnDktrTUfAPrzI1zuLNcClKJOjWQBAwBxoZn4vhFDAOPQnRfK/SMBazPO7A/dEwO1qcrzGuk7AoTHHAnJySMCFdIKncllGwAELIhNOAjbADg13AFyDRMBt4ZBvYZ1PwC3fFU5FsEDAP69OZugLG8CRP47DX11KwBXjA61FKFHA2/Xx7j/ARMBkQgk3sgQjwHrtjs/NgkXApsnyxKbVQcB6X66cjpFFwCo2LRL9dUzAFCuyGfPYUsAvtbNvv5ZIwB4ddaXtMlHADJwIKcBXTMBs7r+icZU3wBYrWU07ZEPAYX3tALsaQ8A=",
          "dtype": "f8"
         }
        },
        {
         "hovertemplate": "color=diagnosis: None (normal)<br>pc1=%{x}<br>pc2=%{y}<br>pc3=%{z}<extra></extra>",
         "legendgroup": "diagnosis: None (normal)",
         "marker": {
          "color": "#EF553B",
          "opacity": 0.8,
          "symbol": "circle"
         },
         "mode": "markers",
         "name": "diagnosis: None (normal)",
         "scene": "scene",
         "showlegend": true,
         "type": "scatter3d",
         "x": {
          "bdata": "87w9kZLuZkA6z9wxNmlkQEjzoe5XIEpAxXQGZ9FkMEDd0VzUpUhPQKo7VgpHdVlAMjUFMJ6lUECYOQ58ZkpkQLdIOhcEXU9APla6ky15V0B5a9dEXXJkQKjNv+QZ72NAnmJFsLyIUEAvjE9dJsRTQE71vcZCj11AKobFAytBU0AFZUaPQVtDQDAyhcMjbmRA5H3R8u9OR0DTAwo9vAhmQP66/7c0YUVAdyeoFvBSZUCSDhLn9kFNQAe+kIC/N15AjZjibzINU0BbQZocP1dhQA8AW/2uu1JA7fk18mBXYUA8LdUHA2ZQQOcBsoCofFNA6jH0WMP6MEAdDDEAfCRQQM/bwJqkzUhAdr4G7xBgV0CfvHR+R9RYQGaTphxq3lFALtrIpkFwUEBwgMMDfSNhQOY2HxndkldAqnQJl6zwOkDL+2EIiVNIQOH+q1do7DpAOappIy0jWkAoIAsmvRBQQOVhyyRctVBASO5i9hZXT0D9LhuJu41MQKRZHy8JTTtAIR8HLdKFXUAQRgiWM1hiQL47732WWU9AVBWi3cSKZUBVO3lx/MFmQCMUz9gJq0BA/hOmQQ0mVkBD7KH2KiVRQNSKeD5ghUxAgwJDTOwEZUDh4VJTZINTQNACg6OBuFFANARUf43KY0Bb8rwrHiBQQGtsnOtpFmNAQ/VYtJjiZUAUfik7y3pjQGNtdBZ0pVRA2K4nwKdAWUAQuJJ8WStmQH2GRcXZi2NAsonxYFs4V0CE+k3gWlJcQCutLRR60E9AAJmgSWFlTEChgNt+oFNYQGl9O/unOGFA7t3US3OwQEBLorKia+xRQAlf+0a2KmVAjrAQjOV8PUBc8feNfpRHQM29g04+FkJACOJTizkQZUDG0syIp65gQCktqRz+rlVAOy08T0ynVEAeQScLEHJNQBkEiyJCSzNAtVndtgy+WkCW2bf+9udXQEe3G5kMB1RAxdp+pcAsT0Co6AOl+VVPQHzH2fqm12JAoMT36ognZkAOxGaMXz5lQDUpt+lt8UhAfl7AFGyoY0B0Tv9kg/hXQJZiDWhEW2JA6/S2CiYmWEBZFJnh1VVkQA6l429ByGNAB1nJd3u0VUC4/S1aRMxJQNIaWCBSMktAxce9k3Y8MUA5EfIbkeJMQCjS9RmHjlFAB+G1ql5AQEB9ov7YwxtZQLxUkDNUUVxACGs2BYVXZkAbMNd8LP1UQOfUizxZ6UxAnDtMTLuwV0C+1+mk0aRRQA46aQBfoFNAaOjwZRpOSkA4ppS6Ip9kQLl9Gqorhl9A7Eop/vnOSkBrtxhI0OlkQIKIeMc6Z2ZAxBViIGOCSkBXkSZRUpVjQMUojgjkMWNAHDWWvxkkU0A20MuqkZVjQCVYAwlheGVAqkJezl+aWEA=",
          "dtype": "f8"
         },
         "y": {
          "bdata": "8EJPc6kwWcD5yB2xFmc4wA+zDhof8lVA1X1dYZ7wV0CthAUF/mBDQPNEV/rhbzdA7IvWO9d9JkBNXFk/fphWwH7hFX2lClNAsqwUiC6fHECW1RVNwalRwMC8UZGo1lXAxC0L+1XVMkBw+Kn5JX5KQIaGcJd2pjRAvKpCmzSaHUC0bl6S4LJWQDE/4QcAp0jA+by1a6e+VEB1+puri3hWwDCwPtkEm09AhQkJLEAHSsC0BhIQ8OlTQBKeh4SnOyFAIqjR1SOcI0CJRRPBT3cqwIES5eK4QyxAyHZ9Uap0RcAmGutADAwyQDIFghRKBuq/0SCCVYCxV0BJ1MA4xQ05QNhLaMfKF1ZA5Zz2eOFVQUAZwQBMKWs4QKz315AnkUhADi7deBVlL0DvPOHx5IxEwFftB5kDni7AEIlRhl6vVEAAdfXTyvdLQNtUwM6j01ZAKpDYxYr5EsCHgsC5Rio7QNdJbcv5aiZAcZza7QxSUEDZgyBNbS1QQA4gc55syVZAbXATnKL2HsA9m2brRxEnwAonj3Wxd1FAG6ZzoMtUTcBEAjYUn6lYwFqOR+dr/1ZA8UtISPIlSUCFAPoDg1hAQNWcnDNJQVBABiNmi6RlU8BxpoD1ch1FQKHinMfLSlBAetMqtbdxM8A2AzpATIU5QC4gFVozKTDAp38gaXEpWMBQzLFhsgM1wEKtcOt08j5AO2/TEMJT6b/fVJyQ53BYwHscUY5Ts1LAuSEKbLxaIED5HjXy+P8swOThw8Xtf05AkyulCBR5VEAAl+gal08sQPlCGNx2VD/ASIncc66yUkABl3KbNPYkQOosA3oY2FPAMSyDTzyOVkB/5ltggPpFQNPicx1J2VVAvPO1bN+HU8DwfQnU3WtKwKkTtdjqNjJA9urVH74QQECvoY68ezQ4QIl5JzV7C1dAlLqCJihwM0CPHsgjOWklQB+5UMSv2C9AipdWP2klU0B3NcRXF55PQNNhZF3PxjPAjE4LVShtWMAFVSmSIohXwIUohN/eNEtAXOTv+b7KVMB9V/R7iXU/QE+OwklKfVLAkPgtUJzeO0CMG2NZTHlQwC9cfttWXzPAToS/PBhuIEBXcqg4hD5CQBzgx7IvWlVALQLdjRCuV0Bp6I58y5BTQNUuoJOGx01A8Z7AHN33UkA4+tQxCPQ2QMGs+SHdEC1AJQFolylnV8Diq1ECjGk+QC97bse4ZlRAsF3SEQnfIUDGs4/+AkwlQH7uwJTJrTZAnooD+G2GSUA2uHkIacg+wMAp+T28zTzALt4/yB1TVEAoJFmWEzVXwEYwLXC+llfAosxSWCAJVUA667kkNWQ1wHj3ePf+sUvAAXxg5/KlQECiDmmeG2U1wLeg8LrqvVTAc1aOgEfgO0A=",
          "dtype": "f8"
         },
         "z": {
          "bdata": "q2PFLruOQsCdtKOpjC42QC6ztn4QHUlAzk4rPp9bQEBnkuOWuWYAwEWeE/uTKhlAhMS7uZfDI8B6puuuMjYuwM6r8L0VtjxAAb6AbXNGwT/ScdVk8PI5wOcBcrl95i3AtL4fE1x8FcDxYjpGn3c6QN1H1j1dGzlAkEiOH6SxGcD8z0cbu85FQAcB41on3Q3A1PSTrogaPkAFeSoIZYpAwKUTV2VwuilAC7p2cOWc5j+Kzfa7s1ZGQNKQacG5bSZAeMbqvwNqGcCmfKTM1cEsQNvTwz3oNRjAV2S/xDOmMMBsRfR7l8gfwFW/4dn0ACXAu+Dr2v4bQEBPlNLmG84XwAwBw/Spd0hACxxWANkiJkCGcjGYUQcXQKX3hYpaXC9Az0RyjyaLGcDqGY99zgowwOH8uW6jVjDAb1+Qk2vGOEDRjIEtltogQEZcdfpDzj9AorX4UhjVDsAfsuTKpGYVwPrsV7dklSPAQokCA9HCM0BdPyKrjp85QKpwGPzpxT9ApVslYh3IHECwDIFcR+gxQBe1jzWtiDdAFnNPeV+xEcAfdbr+kCpCwK9igsqlfkRAwkTDchsIO0BssZLRZBf6vxyRjx5D9DlAcPZzvm+FPMCkNgk9TlEtQHOmCgAFCThAz30GmPaANkCK05dIAUYXwMsC5sy8cTNAzMdOQn1kPMALyl9tlNAzQKKdmi3QngFAJhvL/aY7BMA/u2+fuMI+wDWeokG4zT7AlvLFC9F2sD90iybNrn8cwJKLQBHssTNA86tLsywaR0CCaP2QU0EGQO1Vo0gY8yjAVz5DeGjtM0AtZddOgAQgwMZiOoo5Lz3ArO7/hoaVP0ArpjDYFGwaQN/QGvSXAT9ANQYASDe4PMA7Df5D5XY5wEnhShqFYeS/cgcxUib0JEBI3uCCEs0KwPPnDo87iD5A8pU8jbl6HkCI3bAlRaP3P1mNiw3VaQ3AnfmDFF98PUBuRtYN6RMyQF5KJgtbBTJAEkNyIu+iPsAbxDR4Dww3wGGG1xMZ/h1AvTpi7v70K8BomRBBp2cjQJEN2KXuhSzAGDJd+PCkH0BE7lr0KUb0vxRjSQ4ogjZATsT2w9WtA8A4pVcXl7oGQPNc//VB6kZAoMvvNXAKQEDvqKdVwSM9QHsWFL2X1TVASXp6ADCWNEB/FEFqWZkWQDZinjeOfyJAbMA41WI7QcBS20oiKvMDQMaFihdnZENAbWJqg/rb6T+6bUCvotYgwD1+nxRSB+6/NYBvT9zJFUAdn5L0KToxQAG6Ea7v1ifA5pD6/v+nRUBM0SKLcks0wHLiFtetXkHA0TF0TiosR0Dm+ijZABQ0QC617IwpuDTARR/FjDuM7T9zDGbcoRQ0QKys8S6C5T7AMT2IoyalIkA=",
          "dtype": "f8"
         }
        }
       ],
       "layout": {
        "coloraxis": {
         "showscale": false
        },
        "height": 500,
        "legend": {
         "title": {
          "text": "color"
         },
         "tracegroupgap": 0
        },
        "margin": {
         "t": 60
        },
        "scene": {
         "domain": {
          "x": [
           0,
           1
          ],
          "y": [
           0,
           1
          ]
         },
         "xaxis": {
          "title": {
           "text": "pc1"
          }
         },
         "yaxis": {
          "title": {
           "text": "pc2"
          }
         },
         "zaxis": {
          "title": {
           "text": "pc3"
          }
         }
        },
        "showlegend": true,
        "template": {
         "data": {
          "bar": [
           {
            "error_x": {
             "color": "#2a3f5f"
            },
            "error_y": {
             "color": "#2a3f5f"
            },
            "marker": {
             "line": {
              "color": "#E5ECF6",
              "width": 0.5
             },
             "pattern": {
              "fillmode": "overlay",
              "size": 10,
              "solidity": 0.2
             }
            },
            "type": "bar"
           }
          ],
          "barpolar": [
           {
            "marker": {
             "line": {
              "color": "#E5ECF6",
              "width": 0.5
             },
             "pattern": {
              "fillmode": "overlay",
              "size": 10,
              "solidity": 0.2
             }
            },
            "type": "barpolar"
           }
          ],
          "carpet": [
           {
            "aaxis": {
             "endlinecolor": "#2a3f5f",
             "gridcolor": "white",
             "linecolor": "white",
             "minorgridcolor": "white",
             "startlinecolor": "#2a3f5f"
            },
            "baxis": {
             "endlinecolor": "#2a3f5f",
             "gridcolor": "white",
             "linecolor": "white",
             "minorgridcolor": "white",
             "startlinecolor": "#2a3f5f"
            },
            "type": "carpet"
           }
          ],
          "choropleth": [
           {
            "colorbar": {
             "outlinewidth": 0,
             "ticks": ""
            },
            "type": "choropleth"
           }
          ],
          "contour": [
           {
            "colorbar": {
             "outlinewidth": 0,
             "ticks": ""
            },
            "colorscale": [
             [
              0,
              "#0d0887"
             ],
             [
              0.1111111111111111,
              "#46039f"
             ],
             [
              0.2222222222222222,
              "#7201a8"
             ],
             [
              0.3333333333333333,
              "#9c179e"
             ],
             [
              0.4444444444444444,
              "#bd3786"
             ],
             [
              0.5555555555555556,
              "#d8576b"
             ],
             [
              0.6666666666666666,
              "#ed7953"
             ],
             [
              0.7777777777777778,
              "#fb9f3a"
             ],
             [
              0.8888888888888888,
              "#fdca26"
             ],
             [
              1,
              "#f0f921"
             ]
            ],
            "type": "contour"
           }
          ],
          "contourcarpet": [
           {
            "colorbar": {
             "outlinewidth": 0,
             "ticks": ""
            },
            "type": "contourcarpet"
           }
          ],
          "heatmap": [
           {
            "colorbar": {
             "outlinewidth": 0,
             "ticks": ""
            },
            "colorscale": [
             [
              0,
              "#0d0887"
             ],
             [
              0.1111111111111111,
              "#46039f"
             ],
             [
              0.2222222222222222,
              "#7201a8"
             ],
             [
              0.3333333333333333,
              "#9c179e"
             ],
             [
              0.4444444444444444,
              "#bd3786"
             ],
             [
              0.5555555555555556,
              "#d8576b"
             ],
             [
              0.6666666666666666,
              "#ed7953"
             ],
             [
              0.7777777777777778,
              "#fb9f3a"
             ],
             [
              0.8888888888888888,
              "#fdca26"
             ],
             [
              1,
              "#f0f921"
             ]
            ],
            "type": "heatmap"
           }
          ],
          "histogram": [
           {
            "marker": {
             "pattern": {
              "fillmode": "overlay",
              "size": 10,
              "solidity": 0.2
             }
            },
            "type": "histogram"
           }
          ],
          "histogram2d": [
           {
            "colorbar": {
             "outlinewidth": 0,
             "ticks": ""
            },
            "colorscale": [
             [
              0,
              "#0d0887"
             ],
             [
              0.1111111111111111,
              "#46039f"
             ],
             [
              0.2222222222222222,
              "#7201a8"
             ],
             [
              0.3333333333333333,
              "#9c179e"
             ],
             [
              0.4444444444444444,
              "#bd3786"
             ],
             [
              0.5555555555555556,
              "#d8576b"
             ],
             [
              0.6666666666666666,
              "#ed7953"
             ],
             [
              0.7777777777777778,
              "#fb9f3a"
             ],
             [
              0.8888888888888888,
              "#fdca26"
             ],
             [
              1,
              "#f0f921"
             ]
            ],
            "type": "histogram2d"
           }
          ],
          "histogram2dcontour": [
           {
            "colorbar": {
             "outlinewidth": 0,
             "ticks": ""
            },
            "colorscale": [
             [
              0,
              "#0d0887"
             ],
             [
              0.1111111111111111,
              "#46039f"
             ],
             [
              0.2222222222222222,
              "#7201a8"
             ],
             [
              0.3333333333333333,
              "#9c179e"
             ],
             [
              0.4444444444444444,
              "#bd3786"
             ],
             [
              0.5555555555555556,
              "#d8576b"
             ],
             [
              0.6666666666666666,
              "#ed7953"
             ],
             [
              0.7777777777777778,
              "#fb9f3a"
             ],
             [
              0.8888888888888888,
              "#fdca26"
             ],
             [
              1,
              "#f0f921"
             ]
            ],
            "type": "histogram2dcontour"
           }
          ],
          "mesh3d": [
           {
            "colorbar": {
             "outlinewidth": 0,
             "ticks": ""
            },
            "type": "mesh3d"
           }
          ],
          "parcoords": [
           {
            "line": {
             "colorbar": {
              "outlinewidth": 0,
              "ticks": ""
             }
            },
            "type": "parcoords"
           }
          ],
          "pie": [
           {
            "automargin": true,
            "type": "pie"
           }
          ],
          "scatter": [
           {
            "fillpattern": {
             "fillmode": "overlay",
             "size": 10,
             "solidity": 0.2
            },
            "type": "scatter"
           }
          ],
          "scatter3d": [
           {
            "line": {
             "colorbar": {
              "outlinewidth": 0,
              "ticks": ""
             }
            },
            "marker": {
             "colorbar": {
              "outlinewidth": 0,
              "ticks": ""
             }
            },
            "type": "scatter3d"
           }
          ],
          "scattercarpet": [
           {
            "marker": {
             "colorbar": {
              "outlinewidth": 0,
              "ticks": ""
             }
            },
            "type": "scattercarpet"
           }
          ],
          "scattergeo": [
           {
            "marker": {
             "colorbar": {
              "outlinewidth": 0,
              "ticks": ""
             }
            },
            "type": "scattergeo"
           }
          ],
          "scattergl": [
           {
            "marker": {
             "colorbar": {
              "outlinewidth": 0,
              "ticks": ""
             }
            },
            "type": "scattergl"
           }
          ],
          "scattermap": [
           {
            "marker": {
             "colorbar": {
              "outlinewidth": 0,
              "ticks": ""
             }
            },
            "type": "scattermap"
           }
          ],
          "scattermapbox": [
           {
            "marker": {
             "colorbar": {
              "outlinewidth": 0,
              "ticks": ""
             }
            },
            "type": "scattermapbox"
           }
          ],
          "scatterpolar": [
           {
            "marker": {
             "colorbar": {
              "outlinewidth": 0,
              "ticks": ""
             }
            },
            "type": "scatterpolar"
           }
          ],
          "scatterpolargl": [
           {
            "marker": {
             "colorbar": {
              "outlinewidth": 0,
              "ticks": ""
             }
            },
            "type": "scatterpolargl"
           }
          ],
          "scatterternary": [
           {
            "marker": {
             "colorbar": {
              "outlinewidth": 0,
              "ticks": ""
             }
            },
            "type": "scatterternary"
           }
          ],
          "surface": [
           {
            "colorbar": {
             "outlinewidth": 0,
             "ticks": ""
            },
            "colorscale": [
             [
              0,
              "#0d0887"
             ],
             [
              0.1111111111111111,
              "#46039f"
             ],
             [
              0.2222222222222222,
              "#7201a8"
             ],
             [
              0.3333333333333333,
              "#9c179e"
             ],
             [
              0.4444444444444444,
              "#bd3786"
             ],
             [
              0.5555555555555556,
              "#d8576b"
             ],
             [
              0.6666666666666666,
              "#ed7953"
             ],
             [
              0.7777777777777778,
              "#fb9f3a"
             ],
             [
              0.8888888888888888,
              "#fdca26"
             ],
             [
              1,
              "#f0f921"
             ]
            ],
            "type": "surface"
           }
          ],
          "table": [
           {
            "cells": {
             "fill": {
              "color": "#EBF0F8"
             },
             "line": {
              "color": "white"
             }
            },
            "header": {
             "fill": {
              "color": "#C8D4E3"
             },
             "line": {
              "color": "white"
             }
            },
            "type": "table"
           }
          ]
         },
         "layout": {
          "annotationdefaults": {
           "arrowcolor": "#2a3f5f",
           "arrowhead": 0,
           "arrowwidth": 1
          },
          "autotypenumbers": "strict",
          "coloraxis": {
           "colorbar": {
            "outlinewidth": 0,
            "ticks": ""
           }
          },
          "colorscale": {
           "diverging": [
            [
             0,
             "#8e0152"
            ],
            [
             0.1,
             "#c51b7d"
            ],
            [
             0.2,
             "#de77ae"
            ],
            [
             0.3,
             "#f1b6da"
            ],
            [
             0.4,
             "#fde0ef"
            ],
            [
             0.5,
             "#f7f7f7"
            ],
            [
             0.6,
             "#e6f5d0"
            ],
            [
             0.7,
             "#b8e186"
            ],
            [
             0.8,
             "#7fbc41"
            ],
            [
             0.9,
             "#4d9221"
            ],
            [
             1,
             "#276419"
            ]
           ],
           "sequential": [
            [
             0,
             "#0d0887"
            ],
            [
             0.1111111111111111,
             "#46039f"
            ],
            [
             0.2222222222222222,
             "#7201a8"
            ],
            [
             0.3333333333333333,
             "#9c179e"
            ],
            [
             0.4444444444444444,
             "#bd3786"
            ],
            [
             0.5555555555555556,
             "#d8576b"
            ],
            [
             0.6666666666666666,
             "#ed7953"
            ],
            [
             0.7777777777777778,
             "#fb9f3a"
            ],
            [
             0.8888888888888888,
             "#fdca26"
            ],
            [
             1,
             "#f0f921"
            ]
           ],
           "sequentialminus": [
            [
             0,
             "#0d0887"
            ],
            [
             0.1111111111111111,
             "#46039f"
            ],
            [
             0.2222222222222222,
             "#7201a8"
            ],
            [
             0.3333333333333333,
             "#9c179e"
            ],
            [
             0.4444444444444444,
             "#bd3786"
            ],
            [
             0.5555555555555556,
             "#d8576b"
            ],
            [
             0.6666666666666666,
             "#ed7953"
            ],
            [
             0.7777777777777778,
             "#fb9f3a"
            ],
            [
             0.8888888888888888,
             "#fdca26"
            ],
            [
             1,
             "#f0f921"
            ]
           ]
          },
          "colorway": [
           "#636efa",
           "#EF553B",
           "#00cc96",
           "#ab63fa",
           "#FFA15A",
           "#19d3f3",
           "#FF6692",
           "#B6E880",
           "#FF97FF",
           "#FECB52"
          ],
          "font": {
           "color": "#2a3f5f"
          },
          "geo": {
           "bgcolor": "white",
           "lakecolor": "white",
           "landcolor": "#E5ECF6",
           "showlakes": true,
           "showland": true,
           "subunitcolor": "white"
          },
          "hoverlabel": {
           "align": "left"
          },
          "hovermode": "closest",
          "mapbox": {
           "style": "light"
          },
          "paper_bgcolor": "white",
          "plot_bgcolor": "#E5ECF6",
          "polar": {
           "angularaxis": {
            "gridcolor": "white",
            "linecolor": "white",
            "ticks": ""
           },
           "bgcolor": "#E5ECF6",
           "radialaxis": {
            "gridcolor": "white",
            "linecolor": "white",
            "ticks": ""
           }
          },
          "scene": {
           "xaxis": {
            "backgroundcolor": "#E5ECF6",
            "gridcolor": "white",
            "gridwidth": 2,
            "linecolor": "white",
            "showbackground": true,
            "ticks": "",
            "zerolinecolor": "white"
           },
           "yaxis": {
            "backgroundcolor": "#E5ECF6",
            "gridcolor": "white",
            "gridwidth": 2,
            "linecolor": "white",
            "showbackground": true,
            "ticks": "",
            "zerolinecolor": "white"
           },
           "zaxis": {
            "backgroundcolor": "#E5ECF6",
            "gridcolor": "white",
            "gridwidth": 2,
            "linecolor": "white",
            "showbackground": true,
            "ticks": "",
            "zerolinecolor": "white"
           }
          },
          "shapedefaults": {
           "line": {
            "color": "#2a3f5f"
           }
          },
          "ternary": {
           "aaxis": {
            "gridcolor": "white",
            "linecolor": "white",
            "ticks": ""
           },
           "baxis": {
            "gridcolor": "white",
            "linecolor": "white",
            "ticks": ""
           },
           "bgcolor": "#E5ECF6",
           "caxis": {
            "gridcolor": "white",
            "linecolor": "white",
            "ticks": ""
           }
          },
          "title": {
           "x": 0.05
          },
          "xaxis": {
           "automargin": true,
           "gridcolor": "white",
           "linecolor": "white",
           "ticks": "",
           "title": {
            "standoff": 15
           },
           "zerolinecolor": "white",
           "zerolinewidth": 2
          },
          "yaxis": {
           "automargin": true,
           "gridcolor": "white",
           "linecolor": "white",
           "ticks": "",
           "title": {
            "standoff": 15
           },
           "zerolinecolor": "white",
           "zerolinewidth": 2
          }
         }
        },
        "width": 800
       }
      }
     },
     "metadata": {},
     "output_type": "display_data"
    }
   ],
   "source": [
    "import plotly.express as px \n",
    "\n",
    "figure = px.scatter_3d(\n",
    "    pd.DataFrame(new_data, columns = ['pc1', 'pc2', 'pc3']),\n",
    "    color = labels,\n",
    "    labels = labels,  \n",
    "    x = 'pc1',\n",
    "    y = 'pc2',\n",
    "    z = 'pc3',\n",
    "    opacity = 0.8,\n",
    "    width = 800,\n",
    "    height = 500)\n",
    "\n",
    "figure.update_layout(coloraxis_showscale = False, showlegend = True)\n",
    "\n",
    "figure.show() \n",
    "figure.write_image(\"./output_plots/pca-plot.png\")"
   ]
  },
  {
   "cell_type": "code",
   "execution_count": 124,
   "id": "f90b3600",
   "metadata": {},
   "outputs": [
    {
     "data": {
      "application/vnd.plotly.v1+json": {
       "config": {
        "plotlyServerURL": "https://plot.ly"
       },
       "data": [
        {
         "hovertemplate": "color=diagnosis: Breast cancer<br>pc1=%{x}<br>pc2=%{y}<br>pc3=%{z}<extra></extra>",
         "legendgroup": "diagnosis: Breast cancer",
         "marker": {
          "color": "#636efa",
          "opacity": 0.8,
          "symbol": "circle"
         },
         "mode": "markers",
         "name": "diagnosis: Breast cancer",
         "scene": "scene",
         "showlegend": true,
         "type": "scatter3d",
         "x": {
          "bdata": "N1w47EOfYMAuQSPz4VNewF3nRLLSvVnAuZgefJAsXcA61HHIjzJfwKB3dmQoalnAK0NbvZYTXcBt34gKGQtgwERkdtkyf1jAxSmqeJHtW8ABZLB8YttewN6TzG5TDl3Ajdx6SvBLXcDhOzsI0jZbwP3EHb5CnmDAkVV3g9B1YMADFcKcqt5ZwITrYoglg1/AEfCdzz2XWsD51xd9Vv5cwPKZzc0UpmDAVJbh1VhQWsDEYcrdUG1YwAPzGhDKFFfA+vqqvw9OXcDurrsMK5xgwCX5k0N42lrAeWmqJoMZV8CBsEhYBnlTwCWoUKv3tlzAVjRbNAU3W8BxncCTtzxbwKlMb9j2ZlrAk5DnV0OGWcCIxsOQld5ewKflvYqfH1nAY4wA7iSRYcDYRcGoIYhewIMX1u6CjFvA+9l1FlEPW8B5j8eJqkJgwLRExRSlrFzASLP6nnqZXcCMSYYnmRBSwA3MnOm1vFbAi4ADa+TTWcB0oe4fuilgwDMJ/KGISFzAoR0oqXqAXMAN5kzKialawNBsMOTi1lfAjkWekuBlWsDk+ylJFVpewPPUQraq8FTA8PMZwU+DVcAu+XF5sw5awBYrt/brXVHAKMrECrWhXsA+j+x9oAZXwEffiXeXelnACKAAa0hiVMBK1ZJyYR5awAp1g5OIa1bAA021vwlNWsA1qN2sHaFYwJp5y70Tg1XAD33YDXASVsBoj+DNNCVXwKNqNEn1rFPACFQnyUmzWcCYuXtyMCBdwDzzRTfNCFfAiWa6qaWpU8DKQB/HjvNEwIg5FZtQMWHANP7bTPKsUsBUPv4A+8RVwPqeADhnGVnATkxcoQ63V8CiSjAijtBWwHQbHF+/bF7AizuPod0JVMCxd8V9JNxUwPPAtK1vUU7AHBeQC80bVsCPVNb+qENTwPnuQBmokFTARw+U5ievVsDH/Gzt8jRSwGWnNvtJHTnAU9ENsVs6UcDxHZcf9XVSwMWyrgaJS1fAS1VvVq+JV8B/vRpkV95LwL5ky0mPs1HAE0BpTXoGVcDbigWtQiZdwKnIH2x56lrA42lSz9q+VMCmQ5ou6N5TwHRnUiYk2FjAVfW15BXJVMD1WBTy1aFZwPpdvJkuNlXAxhMdPsNqX8AipAH/cb9QwKRMha9ohFnAPRRRMV0DWMAkMbZSCIRgwMn4bbTDjFrAjgBAHBQiQMDyXj922o5FwH1JTBv+uFnArptNq84RTsCX2KXKh9ZEwBeD7yFe61PAaAjySbWYW8BSIfaT3Y5VwFtnqpIGr1vAZm1cCPp3VcD+C8wVuyFDwB8iXt2u4VTAeYQaLlafTsB3ntuFY2hcwA3KYdEZa1bAm5sRZ57yV8AuIS/BERxbwIqusXsrmVjATDzMUdGAVsA=",
          "dtype": "f8"
         },
         "y": {
          "bdata": "EEDJh9E6UcC+OIMvkaFKwFRxZ5EWVynA9Zd7hKi5U8AOYgh0fmRFwF5DsAovkOg/rnUS9wcOSMANS+xj9NtDwFuWRo2XxT3ANI1zCYM2SsC5L4XqAoRAwGFmjoGvLTjAW1ALF+fBQ8AtH4Qnn3QnwEX0HAG9QDjAg9SIonN3Q8DW/Aeid2UtwLyqEC8Tik3AJB1vGsTWOcCRhMUc1+48wGQdKdUdUjvAeyDoQmHDNsDUSZpndVVDwB2iJTWr2TXApWDCDWOINsDeUBz5EtVLwFFnU4yYBDrA+N7s5uEhTsAbjCUhNjRIwFQcqS3xu07Al4Uns/uVQMCnRctf3SFFwM45jB/UE0TAPJpq1ZoIPsDkFsalegdLwNM/HQNt+y5ALLg4IolTUcABXYsAq6U4wLAt/Asb7RxA3QKK8txL+b/Mwqmk9FtBwD2fs+IZjjfA6L6zrOFbRsBoVSHtH5cbwLQiAfcxRULAqbASMQDMMcCibZtKNbtDwJOhGvI0YlPA9QOrU0b8Q8DYwygxz+w8wO8ObvRx5ihAMaOgKHbsPsDZM0DD5d5KwLOrD6nbiynA5D5FvUO5RMCXSUKUAUVMwDRSwVjoagNAdKrXuR6aSMDuSczxucdDwEnqB9F/9kbAILxloIsGQsBvzUEXe+pJwD4TI+Vse0rAs908jae7R8AUDeZEULZTwCBTxa5/7zvA11IH5g7uUMA9+vT3QV4gwMb3LKceVSXAPoBVG5pKRcAfs+cHxKw8wEKdKTmeXDlAhYTg0DUjMEDaXsWsPN42wM7xRl/aCSnA361zWwISRUCnv8bR0RAfwN4yLQyM4iVAVyLXnbKoREB0ANAbo8sgQL304fcHlSPAuxeiwclNTkB4WF0wBXUBQJE7phf9UD1AN8V91iZULkAllRMguq9LQPj2DHhF80RA3KJdo+A/MEDhsaJzCNoiQNLC+HlvRz3AiZAdh1OQRkBUl859MfBEQMdd+7kBo+E/34erwZjE/r/cyx4XfNxAQIT+WFc3rktANw7k+ea+REBUm/u+n1pBQEIDdyI2MTbAzmEbfY2lPkARctDSj1dHQO45RRgnnzBAshaFlW9M+b9Xfeq/6vsMwKsmdJc3VkZArj2cnX+sMsCT7cUkNcQVQNY9vTbI40dAa8RzjTFOREAeX2oNENkrwD82xCj/cAJA9reQnCqLQkB4jweIHUxCQArW+m0/5iRAtGoxX1bqUUDQ6vJm5FA/QIkQrUEQPkFANNfAw6umIEALyK2sQUTlP3Ologw06kVAUwmM159JAUA7+Mh0cXk3wFAAytvbBTxAbh4n2kzfNkCnkuNKD1ozwOe3IRzZYjVAZpA18n+MNkBOQNS/QW8mwLhUWalscSlAjFo9L2RZtr8=",
          "dtype": "f8"
         },
         "z": {
          "bdata": "jksS666/UkCwdpp4/wNNQJRZFpZFwzfAnOsBDxlqVEBsLjtJ3jA2wCCodIgRkSHALpZ4NWvVS0Dla0LtDUJNQEQFDYGL00pA8iBcL0nLSEDvt+gsVYVKQHogT+/XHjfAcSGLMBZo8b+vyFhW0YsBwLRZEy6gAyrAL0OSFIAeUEDBIZCi+9YzwHJ3rc+DSlBA/GFE4N2GTUCJXNWsLB8awPvDvFVWDyvA/3LMqvdTOcB3NL0oxu5NQEA7DzZHkUHA71VpZdE/KkAIhi5coodKQNB9U1bJxUpAHU856d6TVEAVjQDG+IpJQFjGpLUL5k1AhxCj4v26P0DXmNmhQQBKQKk3wwJeUDfAfiQaNRgiE0DhZwIJ5qpOQIxWVZjtvkVAFgsa6liqUEDcdkiR9/8pwCqzQxxlCjLASxmhm3Y7AsBV6ooc9pZMQFzyuX4IujlAI6LbEWMeN8DdzaGsWfkjwPEOkUrOKEVAynqIoi0cN8ClWufKFTYgQD19XJBzdFBAZFH2XNrUM8ByGGFFstQTwDf2wMG2NTdAa/Xf+NLOR0DURUureulOQDxyfxGGb0DASof4g0glUEBfz63Oit9SQIWstei3Mz9AdE0IHyq8S0DQy2DNXPJEQBgUD/ChkkxAG1GttggPRkBu1bHsRmdPQDuwdvnsmBLAknZndSDQREDj0FWksrFQQKLZ/SCpoD5AmWpZ6+3wS0A/IbyC2YYVwOsVEBCBfDvAdet5z5xzP8D81MHPZhwrwO+ZGyQJsUrANWsTJderSMDdtcGEj7JCwKof8JT4x0PAfndPnfa4RcChC8rP23MkwMFrng55XUjAGzCTxAAUSMB9rEE89T5DwHmYM3D/oznAOQUaJtypJcBkf3/7YUFGwJERi1Ox61HAChNzWCC1PsDeGWd2kP1AwJfIzxp/GkTA4x5pVIA9QsC5sZRe0qVHwIUc74ZCjkrASRtKuTooTMAnKX8Q+QxMwHKR/ZPiAlDAOBUQIH6nQcC0ApLqijxHwOD/XDct7SvAGeG5T9tkSsBPFy0/zIBPwMXT5QBErELACgb35Q5oS8CIGjll26FCwAUnDktrTUfAPrzI1zuLNcClKJOjWQBAwBxoZn4vhFDAOPQnRfK/SMBazPO7A/dEwO1qcrzGuk7AoTHHAnJySMCFdIKncllGwAELIhNOAjbADg13AFyDRMBt4ZBvYZ1PwC3fFU5FsEDAP69OZugLG8CRP47DX11KwBXjA61FKFHA2/Xx7j/ARMBkQgk3sgQjwHrtjs/NgkXApsnyxKbVQcB6X66cjpFFwCo2LRL9dUzAFCuyGfPYUsAvtbNvv5ZIwB4ddaXtMlHADJwIKcBXTMBs7r+icZU3wBYrWU07ZEPAYX3tALsaQ8A=",
          "dtype": "f8"
         }
        },
        {
         "hovertemplate": "color=diagnosis: None (normal)<br>pc1=%{x}<br>pc2=%{y}<br>pc3=%{z}<extra></extra>",
         "legendgroup": "diagnosis: None (normal)",
         "marker": {
          "color": "#EF553B",
          "opacity": 0.8,
          "symbol": "circle"
         },
         "mode": "markers",
         "name": "diagnosis: None (normal)",
         "scene": "scene",
         "showlegend": true,
         "type": "scatter3d",
         "x": {
          "bdata": "87w9kZLuZkA6z9wxNmlkQEjzoe5XIEpAxXQGZ9FkMEDd0VzUpUhPQKo7VgpHdVlAMjUFMJ6lUECYOQ58ZkpkQLdIOhcEXU9APla6ky15V0B5a9dEXXJkQKjNv+QZ72NAnmJFsLyIUEAvjE9dJsRTQE71vcZCj11AKobFAytBU0AFZUaPQVtDQDAyhcMjbmRA5H3R8u9OR0DTAwo9vAhmQP66/7c0YUVAdyeoFvBSZUCSDhLn9kFNQAe+kIC/N15AjZjibzINU0BbQZocP1dhQA8AW/2uu1JA7fk18mBXYUA8LdUHA2ZQQOcBsoCofFNA6jH0WMP6MEAdDDEAfCRQQM/bwJqkzUhAdr4G7xBgV0CfvHR+R9RYQGaTphxq3lFALtrIpkFwUEBwgMMDfSNhQOY2HxndkldAqnQJl6zwOkDL+2EIiVNIQOH+q1do7DpAOappIy0jWkAoIAsmvRBQQOVhyyRctVBASO5i9hZXT0D9LhuJu41MQKRZHy8JTTtAIR8HLdKFXUAQRgiWM1hiQL47732WWU9AVBWi3cSKZUBVO3lx/MFmQCMUz9gJq0BA/hOmQQ0mVkBD7KH2KiVRQNSKeD5ghUxAgwJDTOwEZUDh4VJTZINTQNACg6OBuFFANARUf43KY0Bb8rwrHiBQQGtsnOtpFmNAQ/VYtJjiZUAUfik7y3pjQGNtdBZ0pVRA2K4nwKdAWUAQuJJ8WStmQH2GRcXZi2NAsonxYFs4V0CE+k3gWlJcQCutLRR60E9AAJmgSWFlTEChgNt+oFNYQGl9O/unOGFA7t3US3OwQEBLorKia+xRQAlf+0a2KmVAjrAQjOV8PUBc8feNfpRHQM29g04+FkJACOJTizkQZUDG0syIp65gQCktqRz+rlVAOy08T0ynVEAeQScLEHJNQBkEiyJCSzNAtVndtgy+WkCW2bf+9udXQEe3G5kMB1RAxdp+pcAsT0Co6AOl+VVPQHzH2fqm12JAoMT36ognZkAOxGaMXz5lQDUpt+lt8UhAfl7AFGyoY0B0Tv9kg/hXQJZiDWhEW2JA6/S2CiYmWEBZFJnh1VVkQA6l429ByGNAB1nJd3u0VUC4/S1aRMxJQNIaWCBSMktAxce9k3Y8MUA5EfIbkeJMQCjS9RmHjlFAB+G1ql5AQEB9ov7YwxtZQLxUkDNUUVxACGs2BYVXZkAbMNd8LP1UQOfUizxZ6UxAnDtMTLuwV0C+1+mk0aRRQA46aQBfoFNAaOjwZRpOSkA4ppS6Ip9kQLl9Gqorhl9A7Eop/vnOSkBrtxhI0OlkQIKIeMc6Z2ZAxBViIGOCSkBXkSZRUpVjQMUojgjkMWNAHDWWvxkkU0A20MuqkZVjQCVYAwlheGVAqkJezl+aWEA=",
          "dtype": "f8"
         },
         "y": {
          "bdata": "8EJPc6kwWcD5yB2xFmc4wA+zDhof8lVA1X1dYZ7wV0CthAUF/mBDQPNEV/rhbzdA7IvWO9d9JkBNXFk/fphWwH7hFX2lClNAsqwUiC6fHECW1RVNwalRwMC8UZGo1lXAxC0L+1XVMkBw+Kn5JX5KQIaGcJd2pjRAvKpCmzSaHUC0bl6S4LJWQDE/4QcAp0jA+by1a6e+VEB1+puri3hWwDCwPtkEm09AhQkJLEAHSsC0BhIQ8OlTQBKeh4SnOyFAIqjR1SOcI0CJRRPBT3cqwIES5eK4QyxAyHZ9Uap0RcAmGutADAwyQDIFghRKBuq/0SCCVYCxV0BJ1MA4xQ05QNhLaMfKF1ZA5Zz2eOFVQUAZwQBMKWs4QKz315AnkUhADi7deBVlL0DvPOHx5IxEwFftB5kDni7AEIlRhl6vVEAAdfXTyvdLQNtUwM6j01ZAKpDYxYr5EsCHgsC5Rio7QNdJbcv5aiZAcZza7QxSUEDZgyBNbS1QQA4gc55syVZAbXATnKL2HsA9m2brRxEnwAonj3Wxd1FAG6ZzoMtUTcBEAjYUn6lYwFqOR+dr/1ZA8UtISPIlSUCFAPoDg1hAQNWcnDNJQVBABiNmi6RlU8BxpoD1ch1FQKHinMfLSlBAetMqtbdxM8A2AzpATIU5QC4gFVozKTDAp38gaXEpWMBQzLFhsgM1wEKtcOt08j5AO2/TEMJT6b/fVJyQ53BYwHscUY5Ts1LAuSEKbLxaIED5HjXy+P8swOThw8Xtf05AkyulCBR5VEAAl+gal08sQPlCGNx2VD/ASIncc66yUkABl3KbNPYkQOosA3oY2FPAMSyDTzyOVkB/5ltggPpFQNPicx1J2VVAvPO1bN+HU8DwfQnU3WtKwKkTtdjqNjJA9urVH74QQECvoY68ezQ4QIl5JzV7C1dAlLqCJihwM0CPHsgjOWklQB+5UMSv2C9AipdWP2klU0B3NcRXF55PQNNhZF3PxjPAjE4LVShtWMAFVSmSIohXwIUohN/eNEtAXOTv+b7KVMB9V/R7iXU/QE+OwklKfVLAkPgtUJzeO0CMG2NZTHlQwC9cfttWXzPAToS/PBhuIEBXcqg4hD5CQBzgx7IvWlVALQLdjRCuV0Bp6I58y5BTQNUuoJOGx01A8Z7AHN33UkA4+tQxCPQ2QMGs+SHdEC1AJQFolylnV8Diq1ECjGk+QC97bse4ZlRAsF3SEQnfIUDGs4/+AkwlQH7uwJTJrTZAnooD+G2GSUA2uHkIacg+wMAp+T28zTzALt4/yB1TVEAoJFmWEzVXwEYwLXC+llfAosxSWCAJVUA667kkNWQ1wHj3ePf+sUvAAXxg5/KlQECiDmmeG2U1wLeg8LrqvVTAc1aOgEfgO0A=",
          "dtype": "f8"
         },
         "z": {
          "bdata": "q2PFLruOQsCdtKOpjC42QC6ztn4QHUlAzk4rPp9bQEBnkuOWuWYAwEWeE/uTKhlAhMS7uZfDI8B6puuuMjYuwM6r8L0VtjxAAb6AbXNGwT/ScdVk8PI5wOcBcrl95i3AtL4fE1x8FcDxYjpGn3c6QN1H1j1dGzlAkEiOH6SxGcD8z0cbu85FQAcB41on3Q3A1PSTrogaPkAFeSoIZYpAwKUTV2VwuilAC7p2cOWc5j+Kzfa7s1ZGQNKQacG5bSZAeMbqvwNqGcCmfKTM1cEsQNvTwz3oNRjAV2S/xDOmMMBsRfR7l8gfwFW/4dn0ACXAu+Dr2v4bQEBPlNLmG84XwAwBw/Spd0hACxxWANkiJkCGcjGYUQcXQKX3hYpaXC9Az0RyjyaLGcDqGY99zgowwOH8uW6jVjDAb1+Qk2vGOEDRjIEtltogQEZcdfpDzj9AorX4UhjVDsAfsuTKpGYVwPrsV7dklSPAQokCA9HCM0BdPyKrjp85QKpwGPzpxT9ApVslYh3IHECwDIFcR+gxQBe1jzWtiDdAFnNPeV+xEcAfdbr+kCpCwK9igsqlfkRAwkTDchsIO0BssZLRZBf6vxyRjx5D9DlAcPZzvm+FPMCkNgk9TlEtQHOmCgAFCThAz30GmPaANkCK05dIAUYXwMsC5sy8cTNAzMdOQn1kPMALyl9tlNAzQKKdmi3QngFAJhvL/aY7BMA/u2+fuMI+wDWeokG4zT7AlvLFC9F2sD90iybNrn8cwJKLQBHssTNA86tLsywaR0CCaP2QU0EGQO1Vo0gY8yjAVz5DeGjtM0AtZddOgAQgwMZiOoo5Lz3ArO7/hoaVP0ArpjDYFGwaQN/QGvSXAT9ANQYASDe4PMA7Df5D5XY5wEnhShqFYeS/cgcxUib0JEBI3uCCEs0KwPPnDo87iD5A8pU8jbl6HkCI3bAlRaP3P1mNiw3VaQ3AnfmDFF98PUBuRtYN6RMyQF5KJgtbBTJAEkNyIu+iPsAbxDR4Dww3wGGG1xMZ/h1AvTpi7v70K8BomRBBp2cjQJEN2KXuhSzAGDJd+PCkH0BE7lr0KUb0vxRjSQ4ogjZATsT2w9WtA8A4pVcXl7oGQPNc//VB6kZAoMvvNXAKQEDvqKdVwSM9QHsWFL2X1TVASXp6ADCWNEB/FEFqWZkWQDZinjeOfyJAbMA41WI7QcBS20oiKvMDQMaFihdnZENAbWJqg/rb6T+6bUCvotYgwD1+nxRSB+6/NYBvT9zJFUAdn5L0KToxQAG6Ea7v1ifA5pD6/v+nRUBM0SKLcks0wHLiFtetXkHA0TF0TiosR0Dm+ijZABQ0QC617IwpuDTARR/FjDuM7T9zDGbcoRQ0QKys8S6C5T7AMT2IoyalIkA=",
          "dtype": "f8"
         }
        },
        {
         "showscale": false,
         "type": "surface",
         "x": {
          "bdata": "Y4wA7iSRYcAI7J34WSJawEq/OhVqIlHAGCWvY/REQMBARnMxtq4LQOCN3SnLukNArvNReFXdUkBsILVbRd1bQJUmjJ+abmJA87w9kZLuZkBjjADuJJFhwAjsnfhZIlrASr86FWoiUcAYJa9j9ERAwEBGczG2rgtA4I3dKcu6Q0Cu81F4Vd1SQGwgtVtF3VtAlSaMn5puYkDzvD2Rku5mQGOMAO4kkWHACOyd+FkiWsBKvzoVaiJRwBglr2P0REDAQEZzMbauC0Dgjd0py7pDQK7zUXhV3VJAbCC1W0XdW0CVJoyfmm5iQPO8PZGS7mZAY4wA7iSRYcAI7J34WSJawEq/OhVqIlHAGCWvY/REQMBARnMxtq4LQOCN3SnLukNArvNReFXdUkBsILVbRd1bQJUmjJ+abmJA87w9kZLuZkBjjADuJJFhwAjsnfhZIlrASr86FWoiUcAYJa9j9ERAwEBGczG2rgtA4I3dKcu6Q0Cu81F4Vd1SQGwgtVtF3VtAlSaMn5puYkDzvD2Rku5mQGOMAO4kkWHACOyd+FkiWsBKvzoVaiJRwBglr2P0REDAQEZzMbauC0Dgjd0py7pDQK7zUXhV3VJAbCC1W0XdW0CVJoyfmm5iQPO8PZGS7mZAY4wA7iSRYcAI7J34WSJawEq/OhVqIlHAGCWvY/REQMBARnMxtq4LQOCN3SnLukNArvNReFXdUkBsILVbRd1bQJUmjJ+abmJA87w9kZLuZkBjjADuJJFhwAjsnfhZIlrASr86FWoiUcAYJa9j9ERAwEBGczG2rgtA4I3dKcu6Q0Cu81F4Vd1SQGwgtVtF3VtAlSaMn5puYkDzvD2Rku5mQGOMAO4kkWHACOyd+FkiWsBKvzoVaiJRwBglr2P0REDAQEZzMbauC0Dgjd0py7pDQK7zUXhV3VJAbCC1W0XdW0CVJoyfmm5iQPO8PZGS7mZAY4wA7iSRYcAI7J34WSJawEq/OhVqIlHAGCWvY/REQMBARnMxtq4LQOCN3SnLukNArvNReFXdUkBsILVbRd1bQJUmjJ+abmJA87w9kZLuZkA=",
          "dtype": "f8",
          "shape": "10, 10"
         },
         "y": {
          "bdata": "8EJPc6kwWcDwQk9zqTBZwPBCT3OpMFnA8EJPc6kwWcDwQk9zqTBZwPBCT3OpMFnA8EJPc6kwWcDwQk9zqTBZwPBCT3OpMFnA8EJPc6kwWcCFLQOxL7tTwIUtA7Evu1PAhS0DsS+7U8CFLQOxL7tTwIUtA7Evu1PAhS0DsS+7U8CFLQOxL7tTwIUtA7Evu1PAhS0DsS+7U8CFLQOxL7tTwDQwbt1ri0zANDBu3WuLTMA0MG7da4tMwDQwbt1ri0zANDBu3WuLTMA0MG7da4tMwDQwbt1ri0zANDBu3WuLTMA0MG7da4tMwDQwbt1ri0zAXgXWWHigQcBeBdZYeKBBwF4F1lh4oEHAXgXWWHigQcBeBdZYeKBBwF4F1lh4oEHAXgXWWHigQcBeBdZYeKBBwF4F1lh4oEHAXgXWWHigQcAgavdQE9YqwCBq91AT1irAIGr3UBPWKsAgavdQE9YqwCBq91AT1irAIGr3UBPWKsAgavdQE9YqwCBq91AT1irAIGr3UBPWKsAgavdQE9YqwDhBacG61SBAOEFpwbrVIEA4QWnButUgQDhBacG61SBAOEFpwbrVIEA4QWnButUgQDhBacG61SBAOEFpwbrVIEA4QWnButUgQDhBacG61SBASPbkacRAPkBI9uRpxEA+QEj25GnEQD5ASPbkacRAPkBI9uRpxEA+QEj25GnEQD5ASPbkacRAPkBI9uRpxEA+QEj25GnEQD5ASPbkacRAPkD4pYq5VQtKQPilirlVC0pA+KWKuVULSkD4pYq5VQtKQPilirlVC0pA+KWKuVULSkD4pYq5VQtKQPilirlVC0pA+KWKuVULSkD4pYq5VQtKQGhoEZ8ke1JAaGgRnyR7UkBoaBGfJHtSQGhoEZ8ke1JAaGgRnyR7UkBoaBGfJHtSQGhoEZ8ke1JAaGgRnyR7UkBoaBGfJHtSQGhoEZ8ke1JA1X1dYZ7wV0DVfV1hnvBXQNV9XWGe8FdA1X1dYZ7wV0DVfV1hnvBXQNV9XWGe8FdA1X1dYZ7wV0DVfV1hnvBXQNV9XWGe8FdA1X1dYZ7wV0A=",
          "dtype": "f8",
          "shape": "10, 10"
         },
         "z": {
          "bdata": "NA8x9F4SeUBhTDipZCR0QBoTf7zUbG5Aco2NJuCQZECYDzgh12lVQJ9EUFXfHhtABQeONvsFUsApiTgx8t5iwNAOKsfmumzAOsqNrm1Lc8CNReS09vt3QLmC62n8DXNAzH/lPQRAbEAl+vOnD2RiQPvoBCQ2EFFAkhLxPpg9JcCgLcEznF9WwHgc0q/CC2XAH6LDRbfnbsDhk9rt1WF0wOZ7l3WO5XZAErmeKpT3cUB+7Eu/MxNqQNZmWik/N2BAvoSjTSptSUC7I0UUUAU8wD5U9DA9uVrAxq9rLpM4Z8C3mi7iQ4pwwIhdJy0+eHXAP7JKNibPdUBr71HrK+FwQC9ZskBj5mdAD6eBVd0UXECENz1T6LlAQBffiATqtUbA2XonLt4SX8AUQwWtY2VpwF5keyGsoHHALyd0bKaOdsCX6P32vbh0QIhLCliHlW9A4cUYwpK5ZUB0gE5YPLtXQJfUrbFMDTBATyzv/itpT8C7UK2VP7ZhwGLWnis0kmvABS7IYBS3csDX8MCrDqV3wPAesbdVonNAObhw2bZobUCTMn9DwoxjQNdZG1ubYVNAtl3sMXST9b/EvKr8Ng5UwAnkRhQQ42PAsWk4qgS/bcCs9xSgfM1zwH66Det2u3jASlVkeO2LckDsJNda5jtrQESf5cTxX2FAdWbQu/QPTkBNYOs3u78ywGHj3fnXZ1jAV3fgkuAPZsD+/NEo1etvwFPBYd/k43TAJIRaKt/RecCjixc5hXVxQJ2RPdwVD2lA7heYjEJmXkA+GWrBslxFQF79W5YfE0LA/AkR93jBXMCmCnoRsTxowCbItdNSDHHA+oquHk36dcDLTadpR+h6wPvByvkcX3BATv6jXUXiZkBQ8WSPoQxaQAWYB47hUjlAmUrCkGHGSsBNGCL6jI1gwPSdE5CBaWrAzpECE7sicsChVPtdtRB3wHMX9Kiv/nvApvD7dGmRbkD/agrfdLVkQLHKMZIAs1VAMPbrZHaxH0DqS5TF0bxRwJyru3hdumLARDGtDlKWbMB2W09SIzlzwEkeSJ0dJ3jAG+FA6BcVfcA=",
          "dtype": "f8",
          "shape": "10, 10"
         }
        }
       ],
       "layout": {
        "coloraxis": {
         "showscale": false
        },
        "height": 500,
        "legend": {
         "title": {
          "text": "color"
         },
         "tracegroupgap": 0
        },
        "margin": {
         "t": 60
        },
        "scene": {
         "aspectmode": "manual",
         "aspectratio": {
          "x": 1.2,
          "y": 1,
          "z": 0.6
         },
         "domain": {
          "x": [
           0,
           1
          ],
          "y": [
           0,
           1
          ]
         },
         "xaxis": {
          "range": [
           -140.5357580195151,
           183.45539152200908
          ],
          "title": {
           "text": "pc1"
          }
         },
         "yaxis": {
          "range": [
           -100.76034243336085,
           95.75966676836045
          ],
          "title": {
           "text": "pc2"
          }
         },
         "zaxis": {
          "range": [
           -75.38983766936536,
           82.31048040958963
          ],
          "title": {
           "text": "pc3"
          }
         }
        },
        "showlegend": true,
        "template": {
         "data": {
          "bar": [
           {
            "error_x": {
             "color": "#2a3f5f"
            },
            "error_y": {
             "color": "#2a3f5f"
            },
            "marker": {
             "line": {
              "color": "#E5ECF6",
              "width": 0.5
             },
             "pattern": {
              "fillmode": "overlay",
              "size": 10,
              "solidity": 0.2
             }
            },
            "type": "bar"
           }
          ],
          "barpolar": [
           {
            "marker": {
             "line": {
              "color": "#E5ECF6",
              "width": 0.5
             },
             "pattern": {
              "fillmode": "overlay",
              "size": 10,
              "solidity": 0.2
             }
            },
            "type": "barpolar"
           }
          ],
          "carpet": [
           {
            "aaxis": {
             "endlinecolor": "#2a3f5f",
             "gridcolor": "white",
             "linecolor": "white",
             "minorgridcolor": "white",
             "startlinecolor": "#2a3f5f"
            },
            "baxis": {
             "endlinecolor": "#2a3f5f",
             "gridcolor": "white",
             "linecolor": "white",
             "minorgridcolor": "white",
             "startlinecolor": "#2a3f5f"
            },
            "type": "carpet"
           }
          ],
          "choropleth": [
           {
            "colorbar": {
             "outlinewidth": 0,
             "ticks": ""
            },
            "type": "choropleth"
           }
          ],
          "contour": [
           {
            "colorbar": {
             "outlinewidth": 0,
             "ticks": ""
            },
            "colorscale": [
             [
              0,
              "#0d0887"
             ],
             [
              0.1111111111111111,
              "#46039f"
             ],
             [
              0.2222222222222222,
              "#7201a8"
             ],
             [
              0.3333333333333333,
              "#9c179e"
             ],
             [
              0.4444444444444444,
              "#bd3786"
             ],
             [
              0.5555555555555556,
              "#d8576b"
             ],
             [
              0.6666666666666666,
              "#ed7953"
             ],
             [
              0.7777777777777778,
              "#fb9f3a"
             ],
             [
              0.8888888888888888,
              "#fdca26"
             ],
             [
              1,
              "#f0f921"
             ]
            ],
            "type": "contour"
           }
          ],
          "contourcarpet": [
           {
            "colorbar": {
             "outlinewidth": 0,
             "ticks": ""
            },
            "type": "contourcarpet"
           }
          ],
          "heatmap": [
           {
            "colorbar": {
             "outlinewidth": 0,
             "ticks": ""
            },
            "colorscale": [
             [
              0,
              "#0d0887"
             ],
             [
              0.1111111111111111,
              "#46039f"
             ],
             [
              0.2222222222222222,
              "#7201a8"
             ],
             [
              0.3333333333333333,
              "#9c179e"
             ],
             [
              0.4444444444444444,
              "#bd3786"
             ],
             [
              0.5555555555555556,
              "#d8576b"
             ],
             [
              0.6666666666666666,
              "#ed7953"
             ],
             [
              0.7777777777777778,
              "#fb9f3a"
             ],
             [
              0.8888888888888888,
              "#fdca26"
             ],
             [
              1,
              "#f0f921"
             ]
            ],
            "type": "heatmap"
           }
          ],
          "histogram": [
           {
            "marker": {
             "pattern": {
              "fillmode": "overlay",
              "size": 10,
              "solidity": 0.2
             }
            },
            "type": "histogram"
           }
          ],
          "histogram2d": [
           {
            "colorbar": {
             "outlinewidth": 0,
             "ticks": ""
            },
            "colorscale": [
             [
              0,
              "#0d0887"
             ],
             [
              0.1111111111111111,
              "#46039f"
             ],
             [
              0.2222222222222222,
              "#7201a8"
             ],
             [
              0.3333333333333333,
              "#9c179e"
             ],
             [
              0.4444444444444444,
              "#bd3786"
             ],
             [
              0.5555555555555556,
              "#d8576b"
             ],
             [
              0.6666666666666666,
              "#ed7953"
             ],
             [
              0.7777777777777778,
              "#fb9f3a"
             ],
             [
              0.8888888888888888,
              "#fdca26"
             ],
             [
              1,
              "#f0f921"
             ]
            ],
            "type": "histogram2d"
           }
          ],
          "histogram2dcontour": [
           {
            "colorbar": {
             "outlinewidth": 0,
             "ticks": ""
            },
            "colorscale": [
             [
              0,
              "#0d0887"
             ],
             [
              0.1111111111111111,
              "#46039f"
             ],
             [
              0.2222222222222222,
              "#7201a8"
             ],
             [
              0.3333333333333333,
              "#9c179e"
             ],
             [
              0.4444444444444444,
              "#bd3786"
             ],
             [
              0.5555555555555556,
              "#d8576b"
             ],
             [
              0.6666666666666666,
              "#ed7953"
             ],
             [
              0.7777777777777778,
              "#fb9f3a"
             ],
             [
              0.8888888888888888,
              "#fdca26"
             ],
             [
              1,
              "#f0f921"
             ]
            ],
            "type": "histogram2dcontour"
           }
          ],
          "mesh3d": [
           {
            "colorbar": {
             "outlinewidth": 0,
             "ticks": ""
            },
            "type": "mesh3d"
           }
          ],
          "parcoords": [
           {
            "line": {
             "colorbar": {
              "outlinewidth": 0,
              "ticks": ""
             }
            },
            "type": "parcoords"
           }
          ],
          "pie": [
           {
            "automargin": true,
            "type": "pie"
           }
          ],
          "scatter": [
           {
            "fillpattern": {
             "fillmode": "overlay",
             "size": 10,
             "solidity": 0.2
            },
            "type": "scatter"
           }
          ],
          "scatter3d": [
           {
            "line": {
             "colorbar": {
              "outlinewidth": 0,
              "ticks": ""
             }
            },
            "marker": {
             "colorbar": {
              "outlinewidth": 0,
              "ticks": ""
             }
            },
            "type": "scatter3d"
           }
          ],
          "scattercarpet": [
           {
            "marker": {
             "colorbar": {
              "outlinewidth": 0,
              "ticks": ""
             }
            },
            "type": "scattercarpet"
           }
          ],
          "scattergeo": [
           {
            "marker": {
             "colorbar": {
              "outlinewidth": 0,
              "ticks": ""
             }
            },
            "type": "scattergeo"
           }
          ],
          "scattergl": [
           {
            "marker": {
             "colorbar": {
              "outlinewidth": 0,
              "ticks": ""
             }
            },
            "type": "scattergl"
           }
          ],
          "scattermap": [
           {
            "marker": {
             "colorbar": {
              "outlinewidth": 0,
              "ticks": ""
             }
            },
            "type": "scattermap"
           }
          ],
          "scattermapbox": [
           {
            "marker": {
             "colorbar": {
              "outlinewidth": 0,
              "ticks": ""
             }
            },
            "type": "scattermapbox"
           }
          ],
          "scatterpolar": [
           {
            "marker": {
             "colorbar": {
              "outlinewidth": 0,
              "ticks": ""
             }
            },
            "type": "scatterpolar"
           }
          ],
          "scatterpolargl": [
           {
            "marker": {
             "colorbar": {
              "outlinewidth": 0,
              "ticks": ""
             }
            },
            "type": "scatterpolargl"
           }
          ],
          "scatterternary": [
           {
            "marker": {
             "colorbar": {
              "outlinewidth": 0,
              "ticks": ""
             }
            },
            "type": "scatterternary"
           }
          ],
          "surface": [
           {
            "colorbar": {
             "outlinewidth": 0,
             "ticks": ""
            },
            "colorscale": [
             [
              0,
              "#0d0887"
             ],
             [
              0.1111111111111111,
              "#46039f"
             ],
             [
              0.2222222222222222,
              "#7201a8"
             ],
             [
              0.3333333333333333,
              "#9c179e"
             ],
             [
              0.4444444444444444,
              "#bd3786"
             ],
             [
              0.5555555555555556,
              "#d8576b"
             ],
             [
              0.6666666666666666,
              "#ed7953"
             ],
             [
              0.7777777777777778,
              "#fb9f3a"
             ],
             [
              0.8888888888888888,
              "#fdca26"
             ],
             [
              1,
              "#f0f921"
             ]
            ],
            "type": "surface"
           }
          ],
          "table": [
           {
            "cells": {
             "fill": {
              "color": "#EBF0F8"
             },
             "line": {
              "color": "white"
             }
            },
            "header": {
             "fill": {
              "color": "#C8D4E3"
             },
             "line": {
              "color": "white"
             }
            },
            "type": "table"
           }
          ]
         },
         "layout": {
          "annotationdefaults": {
           "arrowcolor": "#2a3f5f",
           "arrowhead": 0,
           "arrowwidth": 1
          },
          "autotypenumbers": "strict",
          "coloraxis": {
           "colorbar": {
            "outlinewidth": 0,
            "ticks": ""
           }
          },
          "colorscale": {
           "diverging": [
            [
             0,
             "#8e0152"
            ],
            [
             0.1,
             "#c51b7d"
            ],
            [
             0.2,
             "#de77ae"
            ],
            [
             0.3,
             "#f1b6da"
            ],
            [
             0.4,
             "#fde0ef"
            ],
            [
             0.5,
             "#f7f7f7"
            ],
            [
             0.6,
             "#e6f5d0"
            ],
            [
             0.7,
             "#b8e186"
            ],
            [
             0.8,
             "#7fbc41"
            ],
            [
             0.9,
             "#4d9221"
            ],
            [
             1,
             "#276419"
            ]
           ],
           "sequential": [
            [
             0,
             "#0d0887"
            ],
            [
             0.1111111111111111,
             "#46039f"
            ],
            [
             0.2222222222222222,
             "#7201a8"
            ],
            [
             0.3333333333333333,
             "#9c179e"
            ],
            [
             0.4444444444444444,
             "#bd3786"
            ],
            [
             0.5555555555555556,
             "#d8576b"
            ],
            [
             0.6666666666666666,
             "#ed7953"
            ],
            [
             0.7777777777777778,
             "#fb9f3a"
            ],
            [
             0.8888888888888888,
             "#fdca26"
            ],
            [
             1,
             "#f0f921"
            ]
           ],
           "sequentialminus": [
            [
             0,
             "#0d0887"
            ],
            [
             0.1111111111111111,
             "#46039f"
            ],
            [
             0.2222222222222222,
             "#7201a8"
            ],
            [
             0.3333333333333333,
             "#9c179e"
            ],
            [
             0.4444444444444444,
             "#bd3786"
            ],
            [
             0.5555555555555556,
             "#d8576b"
            ],
            [
             0.6666666666666666,
             "#ed7953"
            ],
            [
             0.7777777777777778,
             "#fb9f3a"
            ],
            [
             0.8888888888888888,
             "#fdca26"
            ],
            [
             1,
             "#f0f921"
            ]
           ]
          },
          "colorway": [
           "#636efa",
           "#EF553B",
           "#00cc96",
           "#ab63fa",
           "#FFA15A",
           "#19d3f3",
           "#FF6692",
           "#B6E880",
           "#FF97FF",
           "#FECB52"
          ],
          "font": {
           "color": "#2a3f5f"
          },
          "geo": {
           "bgcolor": "white",
           "lakecolor": "white",
           "landcolor": "#E5ECF6",
           "showlakes": true,
           "showland": true,
           "subunitcolor": "white"
          },
          "hoverlabel": {
           "align": "left"
          },
          "hovermode": "closest",
          "mapbox": {
           "style": "light"
          },
          "paper_bgcolor": "white",
          "plot_bgcolor": "#E5ECF6",
          "polar": {
           "angularaxis": {
            "gridcolor": "white",
            "linecolor": "white",
            "ticks": ""
           },
           "bgcolor": "#E5ECF6",
           "radialaxis": {
            "gridcolor": "white",
            "linecolor": "white",
            "ticks": ""
           }
          },
          "scene": {
           "xaxis": {
            "backgroundcolor": "#E5ECF6",
            "gridcolor": "white",
            "gridwidth": 2,
            "linecolor": "white",
            "showbackground": true,
            "ticks": "",
            "zerolinecolor": "white"
           },
           "yaxis": {
            "backgroundcolor": "#E5ECF6",
            "gridcolor": "white",
            "gridwidth": 2,
            "linecolor": "white",
            "showbackground": true,
            "ticks": "",
            "zerolinecolor": "white"
           },
           "zaxis": {
            "backgroundcolor": "#E5ECF6",
            "gridcolor": "white",
            "gridwidth": 2,
            "linecolor": "white",
            "showbackground": true,
            "ticks": "",
            "zerolinecolor": "white"
           }
          },
          "shapedefaults": {
           "line": {
            "color": "#2a3f5f"
           }
          },
          "ternary": {
           "aaxis": {
            "gridcolor": "white",
            "linecolor": "white",
            "ticks": ""
           },
           "baxis": {
            "gridcolor": "white",
            "linecolor": "white",
            "ticks": ""
           },
           "bgcolor": "#E5ECF6",
           "caxis": {
            "gridcolor": "white",
            "linecolor": "white",
            "ticks": ""
           }
          },
          "title": {
           "x": 0.05
          },
          "xaxis": {
           "automargin": true,
           "gridcolor": "white",
           "linecolor": "white",
           "ticks": "",
           "title": {
            "standoff": 15
           },
           "zerolinecolor": "white",
           "zerolinewidth": 2
          },
          "yaxis": {
           "automargin": true,
           "gridcolor": "white",
           "linecolor": "white",
           "ticks": "",
           "title": {
            "standoff": 15
           },
           "zerolinecolor": "white",
           "zerolinewidth": 2
          }
         }
        },
        "width": 800
       }
      }
     },
     "metadata": {},
     "output_type": "display_data"
    }
   ],
   "source": [
    "import plotly.graph_objects as go \n",
    "\n",
    "surface_trace = go.Surface(x = x_points, y = y_points, z = z_points, showscale = False)\n",
    "\n",
    "figure.add_trace(surface_trace)\n",
    "\n",
    "figure.update_layout(scene=dict(\n",
    "    zaxis=dict(range=[inputs[:, 2].min(), inputs[:, 2].max()]),\n",
    "    xaxis = dict(range = [inputs[:, 0].min(), inputs[:, 0].max()]), \n",
    "    yaxis = dict(range = [inputs[:, 1].min(), inputs[:, 1].max()]), \n",
    "    aspectmode = 'manual',\n",
    "    aspectratio = dict(x =1.2, y=1, z = 0.6),\n",
    "))\n",
    "\n",
    "figure.show() \n",
    "figure.write_image(\"./output_plots/hyperplane-plot.png\")"
   ]
  }
 ],
 "metadata": {
  "kernelspec": {
   "display_name": "cancer-detection",
   "language": "python",
   "name": "python3"
  },
  "language_info": {
   "codemirror_mode": {
    "name": "ipython",
    "version": 3
   },
   "file_extension": ".py",
   "mimetype": "text/x-python",
   "name": "python",
   "nbconvert_exporter": "python",
   "pygments_lexer": "ipython3",
   "version": "3.12.11"
  }
 },
 "nbformat": 4,
 "nbformat_minor": 5
}
